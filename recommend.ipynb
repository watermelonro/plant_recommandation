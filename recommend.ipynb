{
 "cells": [
  {
   "cell_type": "code",
   "execution_count": 1,
   "id": "2c4861d5",
   "metadata": {
    "ExecuteTime": {
     "end_time": "2023-06-06T10:52:26.170809Z",
     "start_time": "2023-06-06T10:52:20.444785Z"
    }
   },
   "outputs": [],
   "source": [
    "import pandas as pd\n",
    "from sklearn.metrics.pairwise import cosine_similarity\n",
    "import numpy as np"
   ]
  },
  {
   "cell_type": "code",
   "execution_count": 2,
   "id": "600df4a7",
   "metadata": {
    "ExecuteTime": {
     "end_time": "2023-06-06T10:52:26.187234Z",
     "start_time": "2023-06-06T10:52:26.170809Z"
    }
   },
   "outputs": [],
   "source": [
    "# 데이터 불러오기\n",
    "df = pd.read_csv(\"./data/식물_전처리 - merged_df(3차).csv\")\n",
    "\n"
   ]
  },
  {
   "cell_type": "code",
   "execution_count": 3,
   "id": "284ceb45",
   "metadata": {
    "ExecuteTime": {
     "end_time": "2023-06-06T10:52:26.203620Z",
     "start_time": "2023-06-06T10:52:26.187234Z"
    }
   },
   "outputs": [],
   "source": [
    "df.columns = df.columns.to_series().apply(lambda x: x.split(\"(\")[0].strip())"
   ]
  },
  {
   "cell_type": "code",
   "execution_count": 4,
   "id": "68c74f00",
   "metadata": {
    "ExecuteTime": {
     "end_time": "2023-06-06T10:52:26.211856Z",
     "start_time": "2023-06-06T10:52:26.203620Z"
    }
   },
   "outputs": [],
   "source": [
    "# df.to_csv('./data/plant_3.csv',index=False)"
   ]
  },
  {
   "cell_type": "code",
   "execution_count": 5,
   "id": "42344b24",
   "metadata": {
    "ExecuteTime": {
     "end_time": "2023-06-06T10:52:26.236802Z",
     "start_time": "2023-06-06T10:52:26.211856Z"
    },
    "scrolled": true
   },
   "outputs": [
    {
     "data": {
      "text/html": [
       "<div>\n",
       "<style scoped>\n",
       "    .dataframe tbody tr th:only-of-type {\n",
       "        vertical-align: middle;\n",
       "    }\n",
       "\n",
       "    .dataframe tbody tr th {\n",
       "        vertical-align: top;\n",
       "    }\n",
       "\n",
       "    .dataframe thead th {\n",
       "        text-align: right;\n",
       "    }\n",
       "</style>\n",
       "<table border=\"1\" class=\"dataframe\">\n",
       "  <thead>\n",
       "    <tr style=\"text-align: right;\">\n",
       "      <th></th>\n",
       "      <th>cntntsSj</th>\n",
       "      <th>clCodeNm</th>\n",
       "      <th>열매여부</th>\n",
       "      <th>다육</th>\n",
       "      <th>로제트</th>\n",
       "      <th>덩굴</th>\n",
       "      <th>growthAraInfo</th>\n",
       "      <th>growthHgInfo</th>\n",
       "      <th>grwhTpCode</th>\n",
       "      <th>lighttdemanddoCodeNm</th>\n",
       "      <th>postngplaceCodeNm</th>\n",
       "      <th>managedemanddoCode</th>\n",
       "      <th>watercycleSummerCode</th>\n",
       "    </tr>\n",
       "  </thead>\n",
       "  <tbody>\n",
       "    <tr>\n",
       "      <th>0</th>\n",
       "      <td>가울테리아</td>\n",
       "      <td>1</td>\n",
       "      <td>1</td>\n",
       "      <td>0</td>\n",
       "      <td>0</td>\n",
       "      <td>0</td>\n",
       "      <td>25</td>\n",
       "      <td>15</td>\n",
       "      <td>82002</td>\n",
       "      <td>2</td>\n",
       "      <td>4</td>\n",
       "      <td>58001</td>\n",
       "      <td>53003</td>\n",
       "    </tr>\n",
       "    <tr>\n",
       "      <th>1</th>\n",
       "      <td>개운죽</td>\n",
       "      <td>0</td>\n",
       "      <td>0</td>\n",
       "      <td>0</td>\n",
       "      <td>0</td>\n",
       "      <td>0</td>\n",
       "      <td>30</td>\n",
       "      <td>90</td>\n",
       "      <td>82002</td>\n",
       "      <td>1</td>\n",
       "      <td>2</td>\n",
       "      <td>58001</td>\n",
       "      <td>53002</td>\n",
       "    </tr>\n",
       "    <tr>\n",
       "      <th>2</th>\n",
       "      <td>골드크레스트 '윌마'</td>\n",
       "      <td>0</td>\n",
       "      <td>0</td>\n",
       "      <td>0</td>\n",
       "      <td>0</td>\n",
       "      <td>0</td>\n",
       "      <td>50</td>\n",
       "      <td>100</td>\n",
       "      <td>82002</td>\n",
       "      <td>4</td>\n",
       "      <td>4</td>\n",
       "      <td>58002</td>\n",
       "      <td>53003</td>\n",
       "    </tr>\n",
       "    <tr>\n",
       "      <th>3</th>\n",
       "      <td>공작야자</td>\n",
       "      <td>0</td>\n",
       "      <td>0</td>\n",
       "      <td>0</td>\n",
       "      <td>0</td>\n",
       "      <td>0</td>\n",
       "      <td>100</td>\n",
       "      <td>300</td>\n",
       "      <td>82003</td>\n",
       "      <td>2</td>\n",
       "      <td>4</td>\n",
       "      <td>58003</td>\n",
       "      <td>53003</td>\n",
       "    </tr>\n",
       "    <tr>\n",
       "      <th>4</th>\n",
       "      <td>관엽베고니아</td>\n",
       "      <td>1</td>\n",
       "      <td>0</td>\n",
       "      <td>0</td>\n",
       "      <td>0</td>\n",
       "      <td>0</td>\n",
       "      <td>30</td>\n",
       "      <td>30</td>\n",
       "      <td>82002</td>\n",
       "      <td>2</td>\n",
       "      <td>4</td>\n",
       "      <td>58002</td>\n",
       "      <td>53003</td>\n",
       "    </tr>\n",
       "  </tbody>\n",
       "</table>\n",
       "</div>"
      ],
      "text/plain": [
       "      cntntsSj  clCodeNm  열매여부  다육  로제트  덩굴  growthAraInfo  growthHgInfo  \\\n",
       "0        가울테리아         1     1   0    0   0             25            15   \n",
       "1          개운죽         0     0   0    0   0             30            90   \n",
       "2  골드크레스트 '윌마'         0     0   0    0   0             50           100   \n",
       "3         공작야자         0     0   0    0   0            100           300   \n",
       "4       관엽베고니아         1     0   0    0   0             30            30   \n",
       "\n",
       "   grwhTpCode  lighttdemanddoCodeNm  postngplaceCodeNm  managedemanddoCode  \\\n",
       "0       82002                     2                  4               58001   \n",
       "1       82002                     1                  2               58001   \n",
       "2       82002                     4                  4               58002   \n",
       "3       82003                     2                  4               58003   \n",
       "4       82002                     2                  4               58002   \n",
       "\n",
       "   watercycleSummerCode  \n",
       "0                 53003  \n",
       "1                 53002  \n",
       "2                 53003  \n",
       "3                 53003  \n",
       "4                 53003  "
      ]
     },
     "execution_count": 5,
     "metadata": {},
     "output_type": "execute_result"
    }
   ],
   "source": [
    "df.head()"
   ]
  },
  {
   "cell_type": "markdown",
   "id": "3977730c",
   "metadata": {},
   "source": [
    "### 코사인 유사도"
   ]
  },
  {
   "cell_type": "code",
   "execution_count": 6,
   "id": "fce4d1f9",
   "metadata": {
    "ExecuteTime": {
     "end_time": "2023-06-06T10:52:26.245221Z",
     "start_time": "2023-06-06T10:52:26.236802Z"
    }
   },
   "outputs": [],
   "source": [
    "# 유사도 계산을 위한 특성 벡터 추출\n",
    "features = df.iloc[:, 1:]  # 식물 특성 열 선택\n",
    "feature_vector = features.values  # NumPy 배열로 변환\n",
    "\n",
    "# 코사인 유사도 계산\n",
    "similarity_matrix = cosine_similarity(feature_vector)"
   ]
  },
  {
   "cell_type": "code",
   "execution_count": 7,
   "id": "c583608f",
   "metadata": {
    "ExecuteTime": {
     "end_time": "2023-06-06T10:52:26.269920Z",
     "start_time": "2023-06-06T10:52:26.245221Z"
    }
   },
   "outputs": [
    {
     "data": {
      "text/html": [
       "<div>\n",
       "<style scoped>\n",
       "    .dataframe tbody tr th:only-of-type {\n",
       "        vertical-align: middle;\n",
       "    }\n",
       "\n",
       "    .dataframe tbody tr th {\n",
       "        vertical-align: top;\n",
       "    }\n",
       "\n",
       "    .dataframe thead th {\n",
       "        text-align: right;\n",
       "    }\n",
       "</style>\n",
       "<table border=\"1\" class=\"dataframe\">\n",
       "  <thead>\n",
       "    <tr style=\"text-align: right;\">\n",
       "      <th></th>\n",
       "      <th>clCodeNm</th>\n",
       "      <th>열매여부</th>\n",
       "      <th>다육</th>\n",
       "      <th>로제트</th>\n",
       "      <th>덩굴</th>\n",
       "      <th>growthAraInfo</th>\n",
       "      <th>growthHgInfo</th>\n",
       "      <th>grwhTpCode</th>\n",
       "      <th>lighttdemanddoCodeNm</th>\n",
       "      <th>postngplaceCodeNm</th>\n",
       "      <th>managedemanddoCode</th>\n",
       "      <th>watercycleSummerCode</th>\n",
       "    </tr>\n",
       "  </thead>\n",
       "  <tbody>\n",
       "    <tr>\n",
       "      <th>0</th>\n",
       "      <td>1</td>\n",
       "      <td>1</td>\n",
       "      <td>0</td>\n",
       "      <td>0</td>\n",
       "      <td>0</td>\n",
       "      <td>25</td>\n",
       "      <td>15</td>\n",
       "      <td>82002</td>\n",
       "      <td>2</td>\n",
       "      <td>4</td>\n",
       "      <td>58001</td>\n",
       "      <td>53003</td>\n",
       "    </tr>\n",
       "    <tr>\n",
       "      <th>1</th>\n",
       "      <td>0</td>\n",
       "      <td>0</td>\n",
       "      <td>0</td>\n",
       "      <td>0</td>\n",
       "      <td>0</td>\n",
       "      <td>30</td>\n",
       "      <td>90</td>\n",
       "      <td>82002</td>\n",
       "      <td>1</td>\n",
       "      <td>2</td>\n",
       "      <td>58001</td>\n",
       "      <td>53002</td>\n",
       "    </tr>\n",
       "    <tr>\n",
       "      <th>2</th>\n",
       "      <td>0</td>\n",
       "      <td>0</td>\n",
       "      <td>0</td>\n",
       "      <td>0</td>\n",
       "      <td>0</td>\n",
       "      <td>50</td>\n",
       "      <td>100</td>\n",
       "      <td>82002</td>\n",
       "      <td>4</td>\n",
       "      <td>4</td>\n",
       "      <td>58002</td>\n",
       "      <td>53003</td>\n",
       "    </tr>\n",
       "    <tr>\n",
       "      <th>3</th>\n",
       "      <td>0</td>\n",
       "      <td>0</td>\n",
       "      <td>0</td>\n",
       "      <td>0</td>\n",
       "      <td>0</td>\n",
       "      <td>100</td>\n",
       "      <td>300</td>\n",
       "      <td>82003</td>\n",
       "      <td>2</td>\n",
       "      <td>4</td>\n",
       "      <td>58003</td>\n",
       "      <td>53003</td>\n",
       "    </tr>\n",
       "    <tr>\n",
       "      <th>4</th>\n",
       "      <td>1</td>\n",
       "      <td>0</td>\n",
       "      <td>0</td>\n",
       "      <td>0</td>\n",
       "      <td>0</td>\n",
       "      <td>30</td>\n",
       "      <td>30</td>\n",
       "      <td>82002</td>\n",
       "      <td>2</td>\n",
       "      <td>4</td>\n",
       "      <td>58002</td>\n",
       "      <td>53003</td>\n",
       "    </tr>\n",
       "    <tr>\n",
       "      <th>...</th>\n",
       "      <td>...</td>\n",
       "      <td>...</td>\n",
       "      <td>...</td>\n",
       "      <td>...</td>\n",
       "      <td>...</td>\n",
       "      <td>...</td>\n",
       "      <td>...</td>\n",
       "      <td>...</td>\n",
       "      <td>...</td>\n",
       "      <td>...</td>\n",
       "      <td>...</td>\n",
       "      <td>...</td>\n",
       "    </tr>\n",
       "    <tr>\n",
       "      <th>212</th>\n",
       "      <td>0</td>\n",
       "      <td>0</td>\n",
       "      <td>0</td>\n",
       "      <td>0</td>\n",
       "      <td>0</td>\n",
       "      <td>40</td>\n",
       "      <td>150</td>\n",
       "      <td>82002</td>\n",
       "      <td>2</td>\n",
       "      <td>5</td>\n",
       "      <td>58003</td>\n",
       "      <td>53003</td>\n",
       "    </tr>\n",
       "    <tr>\n",
       "      <th>213</th>\n",
       "      <td>0</td>\n",
       "      <td>0</td>\n",
       "      <td>0</td>\n",
       "      <td>0</td>\n",
       "      <td>0</td>\n",
       "      <td>50</td>\n",
       "      <td>150</td>\n",
       "      <td>82002</td>\n",
       "      <td>4</td>\n",
       "      <td>7</td>\n",
       "      <td>58001</td>\n",
       "      <td>53003</td>\n",
       "    </tr>\n",
       "    <tr>\n",
       "      <th>214</th>\n",
       "      <td>1</td>\n",
       "      <td>0</td>\n",
       "      <td>0</td>\n",
       "      <td>0</td>\n",
       "      <td>0</td>\n",
       "      <td>30</td>\n",
       "      <td>30</td>\n",
       "      <td>82003</td>\n",
       "      <td>4</td>\n",
       "      <td>7</td>\n",
       "      <td>58001</td>\n",
       "      <td>53003</td>\n",
       "    </tr>\n",
       "    <tr>\n",
       "      <th>215</th>\n",
       "      <td>0</td>\n",
       "      <td>0</td>\n",
       "      <td>0</td>\n",
       "      <td>0</td>\n",
       "      <td>1</td>\n",
       "      <td>30</td>\n",
       "      <td>20</td>\n",
       "      <td>82003</td>\n",
       "      <td>2</td>\n",
       "      <td>4</td>\n",
       "      <td>58002</td>\n",
       "      <td>53003</td>\n",
       "    </tr>\n",
       "    <tr>\n",
       "      <th>216</th>\n",
       "      <td>0</td>\n",
       "      <td>0</td>\n",
       "      <td>0</td>\n",
       "      <td>0</td>\n",
       "      <td>0</td>\n",
       "      <td>30</td>\n",
       "      <td>30</td>\n",
       "      <td>82003</td>\n",
       "      <td>2</td>\n",
       "      <td>4</td>\n",
       "      <td>58002</td>\n",
       "      <td>53002</td>\n",
       "    </tr>\n",
       "  </tbody>\n",
       "</table>\n",
       "<p>217 rows × 12 columns</p>\n",
       "</div>"
      ],
      "text/plain": [
       "     clCodeNm  열매여부  다육  로제트  덩굴  growthAraInfo  growthHgInfo  grwhTpCode  \\\n",
       "0           1     1   0    0   0             25            15       82002   \n",
       "1           0     0   0    0   0             30            90       82002   \n",
       "2           0     0   0    0   0             50           100       82002   \n",
       "3           0     0   0    0   0            100           300       82003   \n",
       "4           1     0   0    0   0             30            30       82002   \n",
       "..        ...   ...  ..  ...  ..            ...           ...         ...   \n",
       "212         0     0   0    0   0             40           150       82002   \n",
       "213         0     0   0    0   0             50           150       82002   \n",
       "214         1     0   0    0   0             30            30       82003   \n",
       "215         0     0   0    0   1             30            20       82003   \n",
       "216         0     0   0    0   0             30            30       82003   \n",
       "\n",
       "     lighttdemanddoCodeNm  postngplaceCodeNm  managedemanddoCode  \\\n",
       "0                       2                  4               58001   \n",
       "1                       1                  2               58001   \n",
       "2                       4                  4               58002   \n",
       "3                       2                  4               58003   \n",
       "4                       2                  4               58002   \n",
       "..                    ...                ...                 ...   \n",
       "212                     2                  5               58003   \n",
       "213                     4                  7               58001   \n",
       "214                     4                  7               58001   \n",
       "215                     2                  4               58002   \n",
       "216                     2                  4               58002   \n",
       "\n",
       "     watercycleSummerCode  \n",
       "0                   53003  \n",
       "1                   53002  \n",
       "2                   53003  \n",
       "3                   53003  \n",
       "4                   53003  \n",
       "..                    ...  \n",
       "212                 53003  \n",
       "213                 53003  \n",
       "214                 53003  \n",
       "215                 53003  \n",
       "216                 53002  \n",
       "\n",
       "[217 rows x 12 columns]"
      ]
     },
     "execution_count": 7,
     "metadata": {},
     "output_type": "execute_result"
    }
   ],
   "source": [
    "features"
   ]
  },
  {
   "cell_type": "code",
   "execution_count": 18,
   "id": "1013bcc1",
   "metadata": {
    "ExecuteTime": {
     "end_time": "2023-06-06T11:09:01.598868Z",
     "start_time": "2023-06-06T11:09:01.582853Z"
    }
   },
   "outputs": [],
   "source": [
    "# 사용자 입력에 따른 추천\n",
    "user_preference_flower = True  # 사용자 입력에 따른 꽃 선호\n",
    "user_watering_amount = 53003  # 사용자 입력에 따른 물주기 양\n",
    "user_managed = 58001\n",
    "user_grwhTpCode = 82002\n",
    "user_growthAraInfo = 20\n",
    "user_growthHgInfo = 20"
   ]
  },
  {
   "cell_type": "code",
   "execution_count": 21,
   "id": "5238cc7f",
   "metadata": {
    "ExecuteTime": {
     "end_time": "2023-06-06T11:15:31.338020Z",
     "start_time": "2023-06-06T11:15:31.321600Z"
    }
   },
   "outputs": [],
   "source": [
    "feature_cols = ['clCodeNm', 'watercycleSummerCode', 'managedemanddoCode', 'grwhTpCode', 'growthAraInfo', 'growthHgInfo']\n",
    "feature_vector = df[feature_cols].values\n"
   ]
  },
  {
   "cell_type": "code",
   "execution_count": 33,
   "id": "a6aa1f3c",
   "metadata": {
    "ExecuteTime": {
     "end_time": "2023-06-06T11:21:28.435010Z",
     "start_time": "2023-06-06T11:21:28.419441Z"
    }
   },
   "outputs": [
    {
     "name": "stdout",
     "output_type": "stream",
     "text": [
      "Recommended plants: 해마리아\n"
     ]
    }
   ],
   "source": [
    "# 입력에 따른 유사한 식물 추천\n",
    "user_vector = np.array([int(user_preference_flower), user_watering_amount, user_managed, user_grwhTpCode, user_growthAraInfo, user_growthHgInfo])\n",
    "similarities = cosine_similarity(user_vector.reshape(1, -1),feature_vector )  # 입력 식물과의 유사도 벡터\n",
    "# Find the indices of similar plants\n",
    "similar_plant_indices = similarities.argsort()[0][::-1][1:]\n",
    "\n",
    "# Get the recommended plant names\n",
    "recommended_plants = df.loc[similar_plant_indices, 'cntntsSj'].tolist()\n",
    "\n",
    "print(\"Recommended plants:\", recommended_plants[0])"
   ]
  },
  {
   "cell_type": "code",
   "execution_count": 34,
   "id": "92aa8d47",
   "metadata": {
    "ExecuteTime": {
     "end_time": "2023-06-06T11:21:28.858300Z",
     "start_time": "2023-06-06T11:21:28.847989Z"
    }
   },
   "outputs": [],
   "source": [
    "# Best Match 계산\n",
    "best_match_index = similar_plant_indices[0]  # 가장 유사한 식물 인덱스\n",
    "best_match = similarities[0,best_match_index]  # 가장 유사한 식물과의 유사도"
   ]
  },
  {
   "cell_type": "code",
   "execution_count": 35,
   "id": "0f9d3f2c",
   "metadata": {
    "ExecuteTime": {
     "end_time": "2023-06-06T11:21:29.277527Z",
     "start_time": "2023-06-06T11:21:29.266326Z"
    }
   },
   "outputs": [
    {
     "name": "stdout",
     "output_type": "stream",
     "text": [
      "추천 식물: 해마리아\n",
      "Best Match: 0.999999999906452\n"
     ]
    }
   ],
   "source": [
    "print(\"추천 식물:\", recommended_plants[0])\n",
    "print(\"Best Match:\", best_match)"
   ]
  },
  {
   "cell_type": "code",
   "execution_count": 36,
   "id": "02dcd2b3",
   "metadata": {
    "ExecuteTime": {
     "end_time": "2023-06-06T11:21:29.686658Z",
     "start_time": "2023-06-06T11:21:29.681165Z"
    }
   },
   "outputs": [
    {
     "name": "stdout",
     "output_type": "stream",
     "text": [
      "Precision: 0.013888888888888888\n",
      "Recall: 1.0\n",
      "F1-score: 0.0273972602739726\n"
     ]
    }
   ],
   "source": [
    "# 사용자 실제 선호 식물 정보\n",
    "user_actual_preference = ['개운죽', '관엽베고니아', '구즈마니아']\n",
    "\n",
    "# 추천 결과와 실제 선호 식물 정보 비교하여 True/False로 이진 레이블 생성\n",
    "binary_recommended = [plant in recommended_plants for plant in user_actual_preference]\n",
    "\n",
    "# Precision 계산\n",
    "precision = sum(binary_recommended) / len(recommended_plants)\n",
    "\n",
    "# Recall 계산\n",
    "recall = sum(binary_recommended) / len(user_actual_preference)\n",
    "\n",
    "# F1-score 계산\n",
    "f1 = 2 * (precision * recall) / (precision + recall)\n",
    "\n",
    "print(\"Precision:\", precision)\n",
    "print(\"Recall:\", recall)\n",
    "print(\"F1-score:\", f1)\n"
   ]
  },
  {
   "cell_type": "markdown",
   "id": "2152a4be",
   "metadata": {},
   "source": [
    "### 유클리디안 거리"
   ]
  },
  {
   "cell_type": "code",
   "execution_count": 37,
   "id": "d24fcdfa",
   "metadata": {
    "ExecuteTime": {
     "end_time": "2023-06-06T11:21:30.773658Z",
     "start_time": "2023-06-06T11:21:30.765125Z"
    }
   },
   "outputs": [],
   "source": [
    "def compute_euclidean_similarity(vector1, vector2):\n",
    "    return np.linalg.norm(vector1 - vector2)"
   ]
  },
  {
   "cell_type": "code",
   "execution_count": 38,
   "id": "f5436162",
   "metadata": {
    "ExecuteTime": {
     "end_time": "2023-06-06T11:21:31.199153Z",
     "start_time": "2023-06-06T11:21:31.180833Z"
    }
   },
   "outputs": [
    {
     "name": "stdout",
     "output_type": "stream",
     "text": [
      "추천 식물: 해마리아\n"
     ]
    }
   ],
   "source": [
    "# 사용자 벡터 생성\n",
    "user_vector = np.array([int(user_preference_flower), user_watering_amount, user_managed])\n",
    "\n",
    "# 특성 벡터 추출\n",
    "features = df.iloc[:, 1:].values\n",
    "num_features = features.shape[1]\n",
    "\n",
    "# 사용자 벡터의 길이 맞추기\n",
    "user_vector = np.resize(user_vector, num_features)\n",
    "\n",
    "# 유클리디안 유사도 계산\n",
    "similarities_eu = np.array([compute_euclidean_similarity(user_vector, vector) for vector in features])\n",
    "similar_plant_indices_eu = similarities_eu.argsort()[::-1][1:]  # 유사도가 높은 식물 인덱스 추출\n",
    "recommended_plants_eu = df.loc[similar_plant_indices_eu, 'cntntsSj'].tolist()  # 추천 식물 이름 리스트\n",
    "\n",
    "print(\"추천 식물:\", recommended_plants_eu[0])"
   ]
  },
  {
   "cell_type": "code",
   "execution_count": null,
   "id": "101090f6",
   "metadata": {},
   "outputs": [],
   "source": []
  },
  {
   "cell_type": "code",
   "execution_count": null,
   "id": "7482ef2c",
   "metadata": {},
   "outputs": [],
   "source": []
  }
 ],
 "metadata": {
  "kernelspec": {
   "display_name": "Python 3 (ipykernel)",
   "language": "python",
   "name": "python3"
  },
  "language_info": {
   "codemirror_mode": {
    "name": "ipython",
    "version": 3
   },
   "file_extension": ".py",
   "mimetype": "text/x-python",
   "name": "python",
   "nbconvert_exporter": "python",
   "pygments_lexer": "ipython3",
   "version": "3.9.0"
  },
  "toc": {
   "base_numbering": 1,
   "nav_menu": {},
   "number_sections": true,
   "sideBar": true,
   "skip_h1_title": false,
   "title_cell": "Table of Contents",
   "title_sidebar": "Contents",
   "toc_cell": false,
   "toc_position": {},
   "toc_section_display": true,
   "toc_window_display": false
  }
 },
 "nbformat": 4,
 "nbformat_minor": 5
}
