{
 "cells": [
  {
   "cell_type": "code",
   "execution_count": 104,
   "id": "4a5699ce",
   "metadata": {
    "ExecuteTime": {
     "end_time": "2023-06-08T12:53:44.257916Z",
     "start_time": "2023-06-08T12:53:44.242481Z"
    }
   },
   "outputs": [],
   "source": [
    "import pandas as pd\n",
    "from sklearn.cluster import KMeans\n",
    "import matplotlib.pyplot as plt\n",
    "import numpy as np\n",
    "import seaborn as sns\n",
    "from sklearn.metrics.pairwise import euclidean_distances, cosine_similarity"
   ]
  },
  {
   "cell_type": "code",
   "execution_count": 105,
   "id": "6aca9f0b",
   "metadata": {
    "ExecuteTime": {
     "end_time": "2023-06-08T12:53:44.274507Z",
     "start_time": "2023-06-08T12:53:44.259721Z"
    }
   },
   "outputs": [],
   "source": [
    "df_o = pd.read_csv(\"./data/식물_전처리 - merged_df(4차)_2.csv\")"
   ]
  },
  {
   "cell_type": "code",
   "execution_count": 106,
   "id": "218b5167",
   "metadata": {
    "ExecuteTime": {
     "end_time": "2023-06-08T12:53:44.299485Z",
     "start_time": "2023-06-08T12:53:44.274507Z"
    },
    "scrolled": true
   },
   "outputs": [
    {
     "data": {
      "text/html": [
       "<div>\n",
       "<style scoped>\n",
       "    .dataframe tbody tr th:only-of-type {\n",
       "        vertical-align: middle;\n",
       "    }\n",
       "\n",
       "    .dataframe tbody tr th {\n",
       "        vertical-align: top;\n",
       "    }\n",
       "\n",
       "    .dataframe thead th {\n",
       "        text-align: right;\n",
       "    }\n",
       "</style>\n",
       "<table border=\"1\" class=\"dataframe\">\n",
       "  <thead>\n",
       "    <tr style=\"text-align: right;\">\n",
       "      <th></th>\n",
       "      <th>cntntsNo(컨텐츠 번호)</th>\n",
       "      <th>cntntsSj(식물 명)</th>\n",
       "      <th>clCodeNm(꽃 여부)</th>\n",
       "      <th>열매여부</th>\n",
       "      <th>다육</th>\n",
       "      <th>덩굴</th>\n",
       "      <th>growthAraInfo (성장 넓이 정보)</th>\n",
       "      <th>growthHgInfo (성장 높이 정보)</th>\n",
       "      <th>lighttdemanddoCodeNm (광요구도 코드)</th>\n",
       "      <th>managedemanddoCode (관리요구도 코드)</th>\n",
       "      <th>watercycleSummerCode (물주기 여름 코드)</th>\n",
       "    </tr>\n",
       "  </thead>\n",
       "  <tbody>\n",
       "    <tr>\n",
       "      <th>0</th>\n",
       "      <td>12938</td>\n",
       "      <td>가울테리아</td>\n",
       "      <td>1</td>\n",
       "      <td>1</td>\n",
       "      <td>0</td>\n",
       "      <td>0</td>\n",
       "      <td>1</td>\n",
       "      <td>1</td>\n",
       "      <td>2</td>\n",
       "      <td>58001</td>\n",
       "      <td>53003</td>\n",
       "    </tr>\n",
       "    <tr>\n",
       "      <th>1</th>\n",
       "      <td>12954</td>\n",
       "      <td>개운죽</td>\n",
       "      <td>0</td>\n",
       "      <td>0</td>\n",
       "      <td>0</td>\n",
       "      <td>0</td>\n",
       "      <td>2</td>\n",
       "      <td>2</td>\n",
       "      <td>1</td>\n",
       "      <td>58001</td>\n",
       "      <td>53002</td>\n",
       "    </tr>\n",
       "    <tr>\n",
       "      <th>2</th>\n",
       "      <td>12955</td>\n",
       "      <td>골드크레스트 '윌마'</td>\n",
       "      <td>0</td>\n",
       "      <td>0</td>\n",
       "      <td>0</td>\n",
       "      <td>0</td>\n",
       "      <td>2</td>\n",
       "      <td>3</td>\n",
       "      <td>4</td>\n",
       "      <td>58002</td>\n",
       "      <td>53003</td>\n",
       "    </tr>\n",
       "    <tr>\n",
       "      <th>3</th>\n",
       "      <td>12957</td>\n",
       "      <td>공작야자</td>\n",
       "      <td>0</td>\n",
       "      <td>0</td>\n",
       "      <td>0</td>\n",
       "      <td>0</td>\n",
       "      <td>3</td>\n",
       "      <td>3</td>\n",
       "      <td>2</td>\n",
       "      <td>58003</td>\n",
       "      <td>53003</td>\n",
       "    </tr>\n",
       "    <tr>\n",
       "      <th>4</th>\n",
       "      <td>12962</td>\n",
       "      <td>관엽베고니아</td>\n",
       "      <td>1</td>\n",
       "      <td>0</td>\n",
       "      <td>0</td>\n",
       "      <td>0</td>\n",
       "      <td>2</td>\n",
       "      <td>1</td>\n",
       "      <td>2</td>\n",
       "      <td>58002</td>\n",
       "      <td>53003</td>\n",
       "    </tr>\n",
       "    <tr>\n",
       "      <th>...</th>\n",
       "      <td>...</td>\n",
       "      <td>...</td>\n",
       "      <td>...</td>\n",
       "      <td>...</td>\n",
       "      <td>...</td>\n",
       "      <td>...</td>\n",
       "      <td>...</td>\n",
       "      <td>...</td>\n",
       "      <td>...</td>\n",
       "      <td>...</td>\n",
       "      <td>...</td>\n",
       "    </tr>\n",
       "    <tr>\n",
       "      <th>212</th>\n",
       "      <td>12932</td>\n",
       "      <td>황금죽</td>\n",
       "      <td>0</td>\n",
       "      <td>0</td>\n",
       "      <td>0</td>\n",
       "      <td>0</td>\n",
       "      <td>2</td>\n",
       "      <td>3</td>\n",
       "      <td>2</td>\n",
       "      <td>58003</td>\n",
       "      <td>53003</td>\n",
       "    </tr>\n",
       "    <tr>\n",
       "      <th>213</th>\n",
       "      <td>12956</td>\n",
       "      <td>후피향나무</td>\n",
       "      <td>0</td>\n",
       "      <td>0</td>\n",
       "      <td>0</td>\n",
       "      <td>0</td>\n",
       "      <td>2</td>\n",
       "      <td>3</td>\n",
       "      <td>4</td>\n",
       "      <td>58001</td>\n",
       "      <td>53003</td>\n",
       "    </tr>\n",
       "    <tr>\n",
       "      <th>214</th>\n",
       "      <td>12920</td>\n",
       "      <td>흰꽃나도사프란</td>\n",
       "      <td>1</td>\n",
       "      <td>0</td>\n",
       "      <td>0</td>\n",
       "      <td>0</td>\n",
       "      <td>2</td>\n",
       "      <td>1</td>\n",
       "      <td>4</td>\n",
       "      <td>58001</td>\n",
       "      <td>53003</td>\n",
       "    </tr>\n",
       "    <tr>\n",
       "      <th>215</th>\n",
       "      <td>12919</td>\n",
       "      <td>흰줄무늬달개비(트라데스칸티아)</td>\n",
       "      <td>0</td>\n",
       "      <td>0</td>\n",
       "      <td>0</td>\n",
       "      <td>1</td>\n",
       "      <td>2</td>\n",
       "      <td>1</td>\n",
       "      <td>2</td>\n",
       "      <td>58002</td>\n",
       "      <td>53003</td>\n",
       "    </tr>\n",
       "    <tr>\n",
       "      <th>216</th>\n",
       "      <td>12901</td>\n",
       "      <td>히포에스테스</td>\n",
       "      <td>0</td>\n",
       "      <td>0</td>\n",
       "      <td>0</td>\n",
       "      <td>0</td>\n",
       "      <td>2</td>\n",
       "      <td>1</td>\n",
       "      <td>2</td>\n",
       "      <td>58002</td>\n",
       "      <td>53002</td>\n",
       "    </tr>\n",
       "  </tbody>\n",
       "</table>\n",
       "<p>217 rows × 11 columns</p>\n",
       "</div>"
      ],
      "text/plain": [
       "     cntntsNo(컨텐츠 번호)    cntntsSj(식물 명)  clCodeNm(꽃 여부)  열매여부  다육  덩굴  \\\n",
       "0               12938             가울테리아               1     1   0   0   \n",
       "1               12954               개운죽               0     0   0   0   \n",
       "2               12955       골드크레스트 '윌마'               0     0   0   0   \n",
       "3               12957              공작야자               0     0   0   0   \n",
       "4               12962            관엽베고니아               1     0   0   0   \n",
       "..                ...               ...             ...   ...  ..  ..   \n",
       "212             12932               황금죽               0     0   0   0   \n",
       "213             12956             후피향나무               0     0   0   0   \n",
       "214             12920           흰꽃나도사프란               1     0   0   0   \n",
       "215             12919  흰줄무늬달개비(트라데스칸티아)               0     0   0   1   \n",
       "216             12901            히포에스테스               0     0   0   0   \n",
       "\n",
       "     growthAraInfo (성장 넓이 정보)  growthHgInfo (성장 높이 정보)  \\\n",
       "0                           1                        1   \n",
       "1                           2                        2   \n",
       "2                           2                        3   \n",
       "3                           3                        3   \n",
       "4                           2                        1   \n",
       "..                        ...                      ...   \n",
       "212                         2                        3   \n",
       "213                         2                        3   \n",
       "214                         2                        1   \n",
       "215                         2                        1   \n",
       "216                         2                        1   \n",
       "\n",
       "     lighttdemanddoCodeNm (광요구도 코드)  managedemanddoCode (관리요구도 코드)  \\\n",
       "0                                 2                          58001   \n",
       "1                                 1                          58001   \n",
       "2                                 4                          58002   \n",
       "3                                 2                          58003   \n",
       "4                                 2                          58002   \n",
       "..                              ...                            ...   \n",
       "212                               2                          58003   \n",
       "213                               4                          58001   \n",
       "214                               4                          58001   \n",
       "215                               2                          58002   \n",
       "216                               2                          58002   \n",
       "\n",
       "     watercycleSummerCode (물주기 여름 코드)  \n",
       "0                               53003  \n",
       "1                               53002  \n",
       "2                               53003  \n",
       "3                               53003  \n",
       "4                               53003  \n",
       "..                                ...  \n",
       "212                             53003  \n",
       "213                             53003  \n",
       "214                             53003  \n",
       "215                             53003  \n",
       "216                             53002  \n",
       "\n",
       "[217 rows x 11 columns]"
      ]
     },
     "execution_count": 106,
     "metadata": {},
     "output_type": "execute_result"
    }
   ],
   "source": [
    "df_o"
   ]
  },
  {
   "cell_type": "code",
   "execution_count": 107,
   "id": "15deda97",
   "metadata": {
    "ExecuteTime": {
     "end_time": "2023-06-08T12:53:44.314479Z",
     "start_time": "2023-06-08T12:53:44.302307Z"
    }
   },
   "outputs": [],
   "source": [
    "df = df_o.drop(columns='cntntsSj(식물 명)')"
   ]
  },
  {
   "cell_type": "code",
   "execution_count": 108,
   "id": "1b3a0dea",
   "metadata": {
    "ExecuteTime": {
     "end_time": "2023-06-08T12:53:44.330911Z",
     "start_time": "2023-06-08T12:53:44.314479Z"
    }
   },
   "outputs": [
    {
     "data": {
      "text/html": [
       "<div>\n",
       "<style scoped>\n",
       "    .dataframe tbody tr th:only-of-type {\n",
       "        vertical-align: middle;\n",
       "    }\n",
       "\n",
       "    .dataframe tbody tr th {\n",
       "        vertical-align: top;\n",
       "    }\n",
       "\n",
       "    .dataframe thead th {\n",
       "        text-align: right;\n",
       "    }\n",
       "</style>\n",
       "<table border=\"1\" class=\"dataframe\">\n",
       "  <thead>\n",
       "    <tr style=\"text-align: right;\">\n",
       "      <th></th>\n",
       "      <th>cntntsNo</th>\n",
       "      <th>clCodeNm</th>\n",
       "      <th>fruit</th>\n",
       "      <th>succulent</th>\n",
       "      <th>vine</th>\n",
       "      <th>growthAra</th>\n",
       "      <th>growthHg</th>\n",
       "      <th>lightdemand</th>\n",
       "      <th>manage</th>\n",
       "      <th>watercycle</th>\n",
       "    </tr>\n",
       "  </thead>\n",
       "  <tbody>\n",
       "    <tr>\n",
       "      <th>0</th>\n",
       "      <td>12938</td>\n",
       "      <td>1</td>\n",
       "      <td>1</td>\n",
       "      <td>0</td>\n",
       "      <td>0</td>\n",
       "      <td>1</td>\n",
       "      <td>1</td>\n",
       "      <td>2</td>\n",
       "      <td>58001</td>\n",
       "      <td>53003</td>\n",
       "    </tr>\n",
       "    <tr>\n",
       "      <th>1</th>\n",
       "      <td>12954</td>\n",
       "      <td>0</td>\n",
       "      <td>0</td>\n",
       "      <td>0</td>\n",
       "      <td>0</td>\n",
       "      <td>2</td>\n",
       "      <td>2</td>\n",
       "      <td>1</td>\n",
       "      <td>58001</td>\n",
       "      <td>53002</td>\n",
       "    </tr>\n",
       "    <tr>\n",
       "      <th>2</th>\n",
       "      <td>12955</td>\n",
       "      <td>0</td>\n",
       "      <td>0</td>\n",
       "      <td>0</td>\n",
       "      <td>0</td>\n",
       "      <td>2</td>\n",
       "      <td>3</td>\n",
       "      <td>4</td>\n",
       "      <td>58002</td>\n",
       "      <td>53003</td>\n",
       "    </tr>\n",
       "    <tr>\n",
       "      <th>3</th>\n",
       "      <td>12957</td>\n",
       "      <td>0</td>\n",
       "      <td>0</td>\n",
       "      <td>0</td>\n",
       "      <td>0</td>\n",
       "      <td>3</td>\n",
       "      <td>3</td>\n",
       "      <td>2</td>\n",
       "      <td>58003</td>\n",
       "      <td>53003</td>\n",
       "    </tr>\n",
       "    <tr>\n",
       "      <th>4</th>\n",
       "      <td>12962</td>\n",
       "      <td>1</td>\n",
       "      <td>0</td>\n",
       "      <td>0</td>\n",
       "      <td>0</td>\n",
       "      <td>2</td>\n",
       "      <td>1</td>\n",
       "      <td>2</td>\n",
       "      <td>58002</td>\n",
       "      <td>53003</td>\n",
       "    </tr>\n",
       "  </tbody>\n",
       "</table>\n",
       "</div>"
      ],
      "text/plain": [
       "   cntntsNo  clCodeNm  fruit  succulent  vine  growthAra  growthHg  \\\n",
       "0     12938         1      1          0     0          1         1   \n",
       "1     12954         0      0          0     0          2         2   \n",
       "2     12955         0      0          0     0          2         3   \n",
       "3     12957         0      0          0     0          3         3   \n",
       "4     12962         1      0          0     0          2         1   \n",
       "\n",
       "   lightdemand  manage  watercycle  \n",
       "0            2   58001       53003  \n",
       "1            1   58001       53002  \n",
       "2            4   58002       53003  \n",
       "3            2   58003       53003  \n",
       "4            2   58002       53003  "
      ]
     },
     "execution_count": 108,
     "metadata": {},
     "output_type": "execute_result"
    }
   ],
   "source": [
    "new_column_names = [\"cntntsNo\", \"clCodeNm\", \"fruit\", \"succulent\", \"vine\",\\\n",
    "                    \"growthAra\", \"growthHg\", \"lightdemand\", \"manage\", \"watercycle\"]\n",
    "df.columns = new_column_names\n",
    "df.head()"
   ]
  },
  {
   "cell_type": "code",
   "execution_count": 109,
   "id": "3bc18faf",
   "metadata": {
    "ExecuteTime": {
     "end_time": "2023-06-08T12:53:44.356215Z",
     "start_time": "2023-06-08T12:53:44.330911Z"
    }
   },
   "outputs": [
    {
     "data": {
      "text/html": [
       "<div>\n",
       "<style scoped>\n",
       "    .dataframe tbody tr th:only-of-type {\n",
       "        vertical-align: middle;\n",
       "    }\n",
       "\n",
       "    .dataframe tbody tr th {\n",
       "        vertical-align: top;\n",
       "    }\n",
       "\n",
       "    .dataframe thead th {\n",
       "        text-align: right;\n",
       "    }\n",
       "</style>\n",
       "<table border=\"1\" class=\"dataframe\">\n",
       "  <thead>\n",
       "    <tr style=\"text-align: right;\">\n",
       "      <th></th>\n",
       "      <th>cntntsNo</th>\n",
       "      <th>clCodeNm</th>\n",
       "      <th>fruit</th>\n",
       "      <th>succulent</th>\n",
       "      <th>vine</th>\n",
       "      <th>growthAra</th>\n",
       "      <th>growthHg</th>\n",
       "      <th>lightdemand</th>\n",
       "      <th>manage</th>\n",
       "      <th>watercycle</th>\n",
       "    </tr>\n",
       "  </thead>\n",
       "  <tbody>\n",
       "    <tr>\n",
       "      <th>0</th>\n",
       "      <td>12938</td>\n",
       "      <td>1</td>\n",
       "      <td>1</td>\n",
       "      <td>0</td>\n",
       "      <td>0</td>\n",
       "      <td>1</td>\n",
       "      <td>1</td>\n",
       "      <td>2</td>\n",
       "      <td>58001</td>\n",
       "      <td>53003</td>\n",
       "    </tr>\n",
       "    <tr>\n",
       "      <th>1</th>\n",
       "      <td>12954</td>\n",
       "      <td>0</td>\n",
       "      <td>0</td>\n",
       "      <td>0</td>\n",
       "      <td>0</td>\n",
       "      <td>2</td>\n",
       "      <td>2</td>\n",
       "      <td>1</td>\n",
       "      <td>58001</td>\n",
       "      <td>53002</td>\n",
       "    </tr>\n",
       "    <tr>\n",
       "      <th>2</th>\n",
       "      <td>12955</td>\n",
       "      <td>0</td>\n",
       "      <td>0</td>\n",
       "      <td>0</td>\n",
       "      <td>0</td>\n",
       "      <td>2</td>\n",
       "      <td>3</td>\n",
       "      <td>4</td>\n",
       "      <td>58002</td>\n",
       "      <td>53003</td>\n",
       "    </tr>\n",
       "    <tr>\n",
       "      <th>3</th>\n",
       "      <td>12957</td>\n",
       "      <td>0</td>\n",
       "      <td>0</td>\n",
       "      <td>0</td>\n",
       "      <td>0</td>\n",
       "      <td>3</td>\n",
       "      <td>3</td>\n",
       "      <td>2</td>\n",
       "      <td>58003</td>\n",
       "      <td>53003</td>\n",
       "    </tr>\n",
       "    <tr>\n",
       "      <th>4</th>\n",
       "      <td>12962</td>\n",
       "      <td>1</td>\n",
       "      <td>0</td>\n",
       "      <td>0</td>\n",
       "      <td>0</td>\n",
       "      <td>2</td>\n",
       "      <td>1</td>\n",
       "      <td>2</td>\n",
       "      <td>58002</td>\n",
       "      <td>53003</td>\n",
       "    </tr>\n",
       "    <tr>\n",
       "      <th>...</th>\n",
       "      <td>...</td>\n",
       "      <td>...</td>\n",
       "      <td>...</td>\n",
       "      <td>...</td>\n",
       "      <td>...</td>\n",
       "      <td>...</td>\n",
       "      <td>...</td>\n",
       "      <td>...</td>\n",
       "      <td>...</td>\n",
       "      <td>...</td>\n",
       "    </tr>\n",
       "    <tr>\n",
       "      <th>212</th>\n",
       "      <td>12932</td>\n",
       "      <td>0</td>\n",
       "      <td>0</td>\n",
       "      <td>0</td>\n",
       "      <td>0</td>\n",
       "      <td>2</td>\n",
       "      <td>3</td>\n",
       "      <td>2</td>\n",
       "      <td>58003</td>\n",
       "      <td>53003</td>\n",
       "    </tr>\n",
       "    <tr>\n",
       "      <th>213</th>\n",
       "      <td>12956</td>\n",
       "      <td>0</td>\n",
       "      <td>0</td>\n",
       "      <td>0</td>\n",
       "      <td>0</td>\n",
       "      <td>2</td>\n",
       "      <td>3</td>\n",
       "      <td>4</td>\n",
       "      <td>58001</td>\n",
       "      <td>53003</td>\n",
       "    </tr>\n",
       "    <tr>\n",
       "      <th>214</th>\n",
       "      <td>12920</td>\n",
       "      <td>1</td>\n",
       "      <td>0</td>\n",
       "      <td>0</td>\n",
       "      <td>0</td>\n",
       "      <td>2</td>\n",
       "      <td>1</td>\n",
       "      <td>4</td>\n",
       "      <td>58001</td>\n",
       "      <td>53003</td>\n",
       "    </tr>\n",
       "    <tr>\n",
       "      <th>215</th>\n",
       "      <td>12919</td>\n",
       "      <td>0</td>\n",
       "      <td>0</td>\n",
       "      <td>0</td>\n",
       "      <td>1</td>\n",
       "      <td>2</td>\n",
       "      <td>1</td>\n",
       "      <td>2</td>\n",
       "      <td>58002</td>\n",
       "      <td>53003</td>\n",
       "    </tr>\n",
       "    <tr>\n",
       "      <th>216</th>\n",
       "      <td>12901</td>\n",
       "      <td>0</td>\n",
       "      <td>0</td>\n",
       "      <td>0</td>\n",
       "      <td>0</td>\n",
       "      <td>2</td>\n",
       "      <td>1</td>\n",
       "      <td>2</td>\n",
       "      <td>58002</td>\n",
       "      <td>53002</td>\n",
       "    </tr>\n",
       "  </tbody>\n",
       "</table>\n",
       "<p>217 rows × 10 columns</p>\n",
       "</div>"
      ],
      "text/plain": [
       "     cntntsNo  clCodeNm  fruit  succulent  vine  growthAra  growthHg  \\\n",
       "0       12938         1      1          0     0          1         1   \n",
       "1       12954         0      0          0     0          2         2   \n",
       "2       12955         0      0          0     0          2         3   \n",
       "3       12957         0      0          0     0          3         3   \n",
       "4       12962         1      0          0     0          2         1   \n",
       "..        ...       ...    ...        ...   ...        ...       ...   \n",
       "212     12932         0      0          0     0          2         3   \n",
       "213     12956         0      0          0     0          2         3   \n",
       "214     12920         1      0          0     0          2         1   \n",
       "215     12919         0      0          0     1          2         1   \n",
       "216     12901         0      0          0     0          2         1   \n",
       "\n",
       "     lightdemand  manage  watercycle  \n",
       "0              2   58001       53003  \n",
       "1              1   58001       53002  \n",
       "2              4   58002       53003  \n",
       "3              2   58003       53003  \n",
       "4              2   58002       53003  \n",
       "..           ...     ...         ...  \n",
       "212            2   58003       53003  \n",
       "213            4   58001       53003  \n",
       "214            4   58001       53003  \n",
       "215            2   58002       53003  \n",
       "216            2   58002       53002  \n",
       "\n",
       "[217 rows x 10 columns]"
      ]
     },
     "execution_count": 109,
     "metadata": {},
     "output_type": "execute_result"
    }
   ],
   "source": [
    "df"
   ]
  },
  {
   "cell_type": "code",
   "execution_count": 110,
   "id": "5606bcc4",
   "metadata": {
    "ExecuteTime": {
     "end_time": "2023-06-08T12:53:44.364320Z",
     "start_time": "2023-06-08T12:53:44.356215Z"
    }
   },
   "outputs": [],
   "source": [
    "df = df.set_index('cntntsNo')"
   ]
  },
  {
   "cell_type": "code",
   "execution_count": 111,
   "id": "5321477b",
   "metadata": {
    "ExecuteTime": {
     "end_time": "2023-06-08T12:53:44.880505Z",
     "start_time": "2023-06-08T12:53:44.364320Z"
    }
   },
   "outputs": [
    {
     "name": "stderr",
     "output_type": "stream",
     "text": [
      "c:\\users\\ahneunjeong\\appdata\\local\\programs\\python\\python39\\lib\\site-packages\\sklearn\\cluster\\_kmeans.py:870: FutureWarning: The default value of `n_init` will change from 10 to 'auto' in 1.4. Set the value of `n_init` explicitly to suppress the warning\n",
      "  warnings.warn(\n",
      "c:\\users\\ahneunjeong\\appdata\\local\\programs\\python\\python39\\lib\\site-packages\\sklearn\\cluster\\_kmeans.py:870: FutureWarning: The default value of `n_init` will change from 10 to 'auto' in 1.4. Set the value of `n_init` explicitly to suppress the warning\n",
      "  warnings.warn(\n",
      "c:\\users\\ahneunjeong\\appdata\\local\\programs\\python\\python39\\lib\\site-packages\\sklearn\\cluster\\_kmeans.py:870: FutureWarning: The default value of `n_init` will change from 10 to 'auto' in 1.4. Set the value of `n_init` explicitly to suppress the warning\n",
      "  warnings.warn(\n",
      "c:\\users\\ahneunjeong\\appdata\\local\\programs\\python\\python39\\lib\\site-packages\\sklearn\\cluster\\_kmeans.py:870: FutureWarning: The default value of `n_init` will change from 10 to 'auto' in 1.4. Set the value of `n_init` explicitly to suppress the warning\n",
      "  warnings.warn(\n",
      "c:\\users\\ahneunjeong\\appdata\\local\\programs\\python\\python39\\lib\\site-packages\\sklearn\\cluster\\_kmeans.py:870: FutureWarning: The default value of `n_init` will change from 10 to 'auto' in 1.4. Set the value of `n_init` explicitly to suppress the warning\n",
      "  warnings.warn(\n",
      "c:\\users\\ahneunjeong\\appdata\\local\\programs\\python\\python39\\lib\\site-packages\\sklearn\\cluster\\_kmeans.py:870: FutureWarning: The default value of `n_init` will change from 10 to 'auto' in 1.4. Set the value of `n_init` explicitly to suppress the warning\n",
      "  warnings.warn(\n",
      "c:\\users\\ahneunjeong\\appdata\\local\\programs\\python\\python39\\lib\\site-packages\\sklearn\\cluster\\_kmeans.py:870: FutureWarning: The default value of `n_init` will change from 10 to 'auto' in 1.4. Set the value of `n_init` explicitly to suppress the warning\n",
      "  warnings.warn(\n",
      "c:\\users\\ahneunjeong\\appdata\\local\\programs\\python\\python39\\lib\\site-packages\\sklearn\\cluster\\_kmeans.py:870: FutureWarning: The default value of `n_init` will change from 10 to 'auto' in 1.4. Set the value of `n_init` explicitly to suppress the warning\n",
      "  warnings.warn(\n",
      "c:\\users\\ahneunjeong\\appdata\\local\\programs\\python\\python39\\lib\\site-packages\\sklearn\\cluster\\_kmeans.py:870: FutureWarning: The default value of `n_init` will change from 10 to 'auto' in 1.4. Set the value of `n_init` explicitly to suppress the warning\n",
      "  warnings.warn(\n"
     ]
    }
   ],
   "source": [
    "inertia_list = []\n",
    "for i in range(2,11):\n",
    "    km = KMeans(n_clusters=i)\n",
    "    km.fit(df)\n",
    "    inertia_list.append(km.inertia_)"
   ]
  },
  {
   "cell_type": "code",
   "execution_count": 112,
   "id": "973ee1e2",
   "metadata": {
    "ExecuteTime": {
     "end_time": "2023-06-08T12:53:45.116137Z",
     "start_time": "2023-06-08T12:53:44.881761Z"
    },
    "scrolled": false
   },
   "outputs": [
    {
     "data": {
      "text/plain": [
       "<AxesSubplot: >"
      ]
     },
     "execution_count": 112,
     "metadata": {},
     "output_type": "execute_result"
    },
    {
     "data": {
      "image/png": "[encoded data removed]",
      "text/plain": [
       "<Figure size 640x480 with 1 Axes>"
      ]
     },
     "metadata": {},
     "output_type": "display_data"
    }
   ],
   "source": [
    "sns.lineplot(x=range(2,11),y=inertia_list)\n",
    "# 엘보 스코어가 안 보임 "
   ]
  },
  {
   "cell_type": "code",
   "execution_count": 113,
   "id": "6ad5ae1c",
   "metadata": {
    "ExecuteTime": {
     "end_time": "2023-06-08T12:53:45.144076Z",
     "start_time": "2023-06-08T12:53:45.116751Z"
    }
   },
   "outputs": [],
   "source": [
    "from sklearn.metrics import silhouette_score"
   ]
  },
  {
   "cell_type": "code",
   "execution_count": 114,
   "id": "96b7d74f",
   "metadata": {
    "ExecuteTime": {
     "end_time": "2023-06-08T12:53:45.856134Z",
     "start_time": "2023-06-08T12:53:45.147975Z"
    }
   },
   "outputs": [
    {
     "name": "stderr",
     "output_type": "stream",
     "text": [
      "c:\\users\\ahneunjeong\\appdata\\local\\programs\\python\\python39\\lib\\site-packages\\sklearn\\cluster\\_kmeans.py:870: FutureWarning: The default value of `n_init` will change from 10 to 'auto' in 1.4. Set the value of `n_init` explicitly to suppress the warning\n",
      "  warnings.warn(\n",
      "c:\\users\\ahneunjeong\\appdata\\local\\programs\\python\\python39\\lib\\site-packages\\sklearn\\cluster\\_kmeans.py:870: FutureWarning: The default value of `n_init` will change from 10 to 'auto' in 1.4. Set the value of `n_init` explicitly to suppress the warning\n",
      "  warnings.warn(\n",
      "c:\\users\\ahneunjeong\\appdata\\local\\programs\\python\\python39\\lib\\site-packages\\sklearn\\cluster\\_kmeans.py:870: FutureWarning: The default value of `n_init` will change from 10 to 'auto' in 1.4. Set the value of `n_init` explicitly to suppress the warning\n",
      "  warnings.warn(\n",
      "c:\\users\\ahneunjeong\\appdata\\local\\programs\\python\\python39\\lib\\site-packages\\sklearn\\cluster\\_kmeans.py:870: FutureWarning: The default value of `n_init` will change from 10 to 'auto' in 1.4. Set the value of `n_init` explicitly to suppress the warning\n",
      "  warnings.warn(\n",
      "c:\\users\\ahneunjeong\\appdata\\local\\programs\\python\\python39\\lib\\site-packages\\sklearn\\cluster\\_kmeans.py:870: FutureWarning: The default value of `n_init` will change from 10 to 'auto' in 1.4. Set the value of `n_init` explicitly to suppress the warning\n",
      "  warnings.warn(\n",
      "c:\\users\\ahneunjeong\\appdata\\local\\programs\\python\\python39\\lib\\site-packages\\sklearn\\cluster\\_kmeans.py:870: FutureWarning: The default value of `n_init` will change from 10 to 'auto' in 1.4. Set the value of `n_init` explicitly to suppress the warning\n",
      "  warnings.warn(\n",
      "c:\\users\\ahneunjeong\\appdata\\local\\programs\\python\\python39\\lib\\site-packages\\sklearn\\cluster\\_kmeans.py:870: FutureWarning: The default value of `n_init` will change from 10 to 'auto' in 1.4. Set the value of `n_init` explicitly to suppress the warning\n",
      "  warnings.warn(\n",
      "c:\\users\\ahneunjeong\\appdata\\local\\programs\\python\\python39\\lib\\site-packages\\sklearn\\cluster\\_kmeans.py:870: FutureWarning: The default value of `n_init` will change from 10 to 'auto' in 1.4. Set the value of `n_init` explicitly to suppress the warning\n",
      "  warnings.warn(\n",
      "c:\\users\\ahneunjeong\\appdata\\local\\programs\\python\\python39\\lib\\site-packages\\sklearn\\cluster\\_kmeans.py:870: FutureWarning: The default value of `n_init` will change from 10 to 'auto' in 1.4. Set the value of `n_init` explicitly to suppress the warning\n",
      "  warnings.warn(\n"
     ]
    }
   ],
   "source": [
    "score = []\n",
    "for i in range(2,11):\n",
    "    km = KMeans(n_clusters=i,random_state=10)\n",
    "    km.fit(df)\n",
    "    pred=km.predict(df)\n",
    "    score.append(silhouette_score(df,pred))"
   ]
  },
  {
   "cell_type": "code",
   "execution_count": 115,
   "id": "a95fd786",
   "metadata": {
    "ExecuteTime": {
     "end_time": "2023-06-08T12:53:46.343149Z",
     "start_time": "2023-06-08T12:53:45.867437Z"
    }
   },
   "outputs": [
    {
     "data": {
      "text/plain": [
       "<AxesSubplot: >"
      ]
     },
     "execution_count": 115,
     "metadata": {},
     "output_type": "execute_result"
    },
    {
     "data": {
      "image/png": "[encoded data removed]",
      "text/plain": [
       "<Figure size 640x480 with 1 Axes>"
      ]
     },
     "metadata": {},
     "output_type": "display_data"
    }
   ],
   "source": [
    "sns.lineplot(x=range(2,11),y=score)"
   ]
  },
  {
   "cell_type": "code",
   "execution_count": 116,
   "id": "7fd3b435",
   "metadata": {
    "ExecuteTime": {
     "end_time": "2023-06-08T12:53:46.358112Z",
     "start_time": "2023-06-08T12:53:46.348568Z"
    }
   },
   "outputs": [],
   "source": [
    "n_clusters = 3"
   ]
  },
  {
   "cell_type": "code",
   "execution_count": 117,
   "id": "de3f72a1",
   "metadata": {
    "ExecuteTime": {
     "end_time": "2023-06-08T12:53:46.452735Z",
     "start_time": "2023-06-08T12:53:46.358112Z"
    }
   },
   "outputs": [
    {
     "name": "stderr",
     "output_type": "stream",
     "text": [
      "c:\\users\\ahneunjeong\\appdata\\local\\programs\\python\\python39\\lib\\site-packages\\sklearn\\cluster\\_kmeans.py:870: FutureWarning: The default value of `n_init` will change from 10 to 'auto' in 1.4. Set the value of `n_init` explicitly to suppress the warning\n",
      "  warnings.warn(\n"
     ]
    },
    {
     "data": {
      "text/html": [
       "<style>#sk-container-id-4 {color: black;background-color: white;}#sk-container-id-4 pre{padding: 0;}#sk-container-id-4 div.sk-toggleable {background-color: white;}#sk-container-id-4 label.sk-toggleable__label {cursor: pointer;display: block;width: 100%;margin-bottom: 0;padding: 0.3em;box-sizing: border-box;text-align: center;}#sk-container-id-4 label.sk-toggleable__label-arrow:before {content: \"▸\";float: left;margin-right: 0.25em;color: #696969;}#sk-container-id-4 label.sk-toggleable__label-arrow:hover:before {color: black;}#sk-container-id-4 div.sk-estimator:hover label.sk-toggleable__label-arrow:before {color: black;}#sk-container-id-4 div.sk-toggleable__content {max-height: 0;max-width: 0;overflow: hidden;text-align: left;background-color: #f0f8ff;}#sk-container-id-4 div.sk-toggleable__content pre {margin: 0.2em;color: black;border-radius: 0.25em;background-color: #f0f8ff;}#sk-container-id-4 input.sk-toggleable__control:checked~div.sk-toggleable__content {max-height: 200px;max-width: 100%;overflow: auto;}#sk-container-id-4 input.sk-toggleable__control:checked~label.sk-toggleable__label-arrow:before {content: \"▾\";}#sk-container-id-4 div.sk-estimator input.sk-toggleable__control:checked~label.sk-toggleable__label {background-color: #d4ebff;}#sk-container-id-4 div.sk-label input.sk-toggleable__control:checked~label.sk-toggleable__label {background-color: #d4ebff;}#sk-container-id-4 input.sk-hidden--visually {border: 0;clip: rect(1px 1px 1px 1px);clip: rect(1px, 1px, 1px, 1px);height: 1px;margin: -1px;overflow: hidden;padding: 0;position: absolute;width: 1px;}#sk-container-id-4 div.sk-estimator {font-family: monospace;background-color: #f0f8ff;border: 1px dotted black;border-radius: 0.25em;box-sizing: border-box;margin-bottom: 0.5em;}#sk-container-id-4 div.sk-estimator:hover {background-color: #d4ebff;}#sk-container-id-4 div.sk-parallel-item::after {content: \"\";width: 100%;border-bottom: 1px solid gray;flex-grow: 1;}#sk-container-id-4 div.sk-label:hover label.sk-toggleable__label {background-color: #d4ebff;}#sk-container-id-4 div.sk-serial::before {content: \"\";position: absolute;border-left: 1px solid gray;box-sizing: border-box;top: 0;bottom: 0;left: 50%;z-index: 0;}#sk-container-id-4 div.sk-serial {display: flex;flex-direction: column;align-items: center;background-color: white;padding-right: 0.2em;padding-left: 0.2em;position: relative;}#sk-container-id-4 div.sk-item {position: relative;z-index: 1;}#sk-container-id-4 div.sk-parallel {display: flex;align-items: stretch;justify-content: center;background-color: white;position: relative;}#sk-container-id-4 div.sk-item::before, #sk-container-id-4 div.sk-parallel-item::before {content: \"\";position: absolute;border-left: 1px solid gray;box-sizing: border-box;top: 0;bottom: 0;left: 50%;z-index: -1;}#sk-container-id-4 div.sk-parallel-item {display: flex;flex-direction: column;z-index: 1;position: relative;background-color: white;}#sk-container-id-4 div.sk-parallel-item:first-child::after {align-self: flex-end;width: 50%;}#sk-container-id-4 div.sk-parallel-item:last-child::after {align-self: flex-start;width: 50%;}#sk-container-id-4 div.sk-parallel-item:only-child::after {width: 0;}#sk-container-id-4 div.sk-dashed-wrapped {border: 1px dashed gray;margin: 0 0.4em 0.5em 0.4em;box-sizing: border-box;padding-bottom: 0.4em;background-color: white;}#sk-container-id-4 div.sk-label label {font-family: monospace;font-weight: bold;display: inline-block;line-height: 1.2em;}#sk-container-id-4 div.sk-label-container {text-align: center;}#sk-container-id-4 div.sk-container {/* jupyter's `normalize.less` sets `[hidden] { display: none; }` but bootstrap.min.css set `[hidden] { display: none !important; }` so we also need the `!important` here to be able to override the default hidden behavior on the sphinx rendered scikit-learn.org. See: https://github.com/scikit-learn/scikit-learn/issues/21755 */display: inline-block !important;position: relative;}#sk-container-id-4 div.sk-text-repr-fallback {display: none;}</style><div id=\"sk-container-id-4\" class=\"sk-top-container\"><div class=\"sk-text-repr-fallback\"><pre>KMeans(n_clusters=3)</pre><b>In a Jupyter environment, please rerun this cell to show the HTML representation or trust the notebook. <br />On GitHub, the HTML representation is unable to render, please try loading this page with nbviewer.org.</b></div><div class=\"sk-container\" hidden><div class=\"sk-item\"><div class=\"sk-estimator sk-toggleable\"><input class=\"sk-toggleable__control sk-hidden--visually\" id=\"sk-estimator-id-4\" type=\"checkbox\" checked><label for=\"sk-estimator-id-4\" class=\"sk-toggleable__label sk-toggleable__label-arrow\">KMeans</label><div class=\"sk-toggleable__content\"><pre>KMeans(n_clusters=3)</pre></div></div></div></div></div>"
      ],
      "text/plain": [
       "KMeans(n_clusters=3)"
      ]
     },
     "execution_count": 117,
     "metadata": {},
     "output_type": "execute_result"
    }
   ],
   "source": [
    "kmeans = KMeans(n_clusters=n_clusters)\n",
    "kmeans.fit(df)"
   ]
  },
  {
   "cell_type": "code",
   "execution_count": 118,
   "id": "9437da26",
   "metadata": {
    "ExecuteTime": {
     "end_time": "2023-06-08T12:53:46.498253Z",
     "start_time": "2023-06-08T12:53:46.464699Z"
    }
   },
   "outputs": [],
   "source": [
    "pred = kmeans.predict(df)"
   ]
  },
  {
   "cell_type": "code",
   "execution_count": 119,
   "id": "4cecfe28",
   "metadata": {
    "ExecuteTime": {
     "end_time": "2023-06-08T12:53:46.539832Z",
     "start_time": "2023-06-08T12:53:46.513934Z"
    }
   },
   "outputs": [
    {
     "data": {
      "text/plain": [
       "array([2, 2, 0, 1, 2, 1, 2, 2, 2, 2, 1, 1, 1, 2, 1, 2, 0, 0, 1, 0, 2, 2,\n",
       "       2, 2, 1, 2, 0, 1, 0, 2, 1, 0, 1, 0, 1, 1, 1, 1, 1, 1, 1, 1, 1, 1,\n",
       "       2, 1, 1, 2, 2, 1, 2, 2, 2, 2, 2, 1, 2, 1, 1, 1, 1, 1, 1, 2, 1, 2,\n",
       "       2, 1, 1, 1, 2, 2, 2, 2, 2, 2, 2, 2, 2, 2, 2, 1, 1, 1, 0, 2, 2, 1,\n",
       "       1, 2, 2, 2, 2, 2, 2, 1, 2, 0, 2, 2, 1, 2, 1, 1, 2, 2, 2, 2, 0, 1,\n",
       "       2, 2, 2, 2, 2, 2, 2, 2, 0, 2, 1, 1, 0, 1, 2, 1, 2, 2, 2, 2, 2, 1,\n",
       "       2, 2, 2, 0, 0, 2, 2, 2, 2, 1, 1, 1, 2, 2, 2, 2, 0, 2, 2, 2, 2, 2,\n",
       "       1, 1, 2, 2, 1, 2, 2, 2, 2, 2, 0, 1, 1, 1, 1, 2, 0, 0, 2, 1, 2, 2,\n",
       "       1, 0, 2, 1, 2, 2, 2, 2, 2, 0, 1, 2, 2, 0, 2, 2, 2, 2, 2, 2, 2, 2,\n",
       "       1, 2, 2, 2, 1, 2, 1, 0, 2, 2, 2, 0, 2, 2, 1, 0, 0, 2, 2])"
      ]
     },
     "execution_count": 119,
     "metadata": {},
     "output_type": "execute_result"
    }
   ],
   "source": [
    "pred"
   ]
  },
  {
   "cell_type": "code",
   "execution_count": 120,
   "id": "97aee1ad",
   "metadata": {
    "ExecuteTime": {
     "end_time": "2023-06-08T12:53:46.813713Z",
     "start_time": "2023-06-08T12:53:46.539832Z"
    },
    "scrolled": false
   },
   "outputs": [
    {
     "data": {
      "image/png": "[encoded data removed]",
      "text/plain": [
       "<Figure size 640x480 with 1 Axes>"
      ]
     },
     "metadata": {},
     "output_type": "display_data"
    }
   ],
   "source": [
    "from sklearn.decomposition import PCA\n",
    "\n",
    "# Assuming df_dum has multiple features\n",
    "pca = PCA(n_components=2)\n",
    "df_pca = pca.fit_transform(df)\n",
    "\n",
    "plt.scatter(df_pca[:, 0], df_pca[:, 1], c=pred)\n",
    "plt.xlabel('Principal Component 1')\n",
    "plt.ylabel('Principal Component 2')\n",
    "plt.title('KMeans Clustering Result (PCA)')\n",
    "plt.show()\n"
   ]
  },
  {
   "cell_type": "code",
   "execution_count": 121,
   "id": "c508805e",
   "metadata": {
    "ExecuteTime": {
     "end_time": "2023-06-08T12:53:46.831517Z",
     "start_time": "2023-06-08T12:53:46.814968Z"
    }
   },
   "outputs": [],
   "source": [
    "user_data = np.array([0, 0, 0, 0, 2, 1, 4, 58003, 53002])\n",
    "ej_data = np.array([0,1,0,0,1,1,3,58001])\n",
    "sy_data = np.array([0,0,0,0,1,1,2,58002,53003])"
   ]
  },
  {
   "cell_type": "code",
   "execution_count": 122,
   "id": "22039718",
   "metadata": {
    "ExecuteTime": {
     "end_time": "2023-06-08T12:53:46.856260Z",
     "start_time": "2023-06-08T12:53:46.831517Z"
    }
   },
   "outputs": [
    {
     "data": {
      "text/html": [
       "<div>\n",
       "<style scoped>\n",
       "    .dataframe tbody tr th:only-of-type {\n",
       "        vertical-align: middle;\n",
       "    }\n",
       "\n",
       "    .dataframe tbody tr th {\n",
       "        vertical-align: top;\n",
       "    }\n",
       "\n",
       "    .dataframe thead th {\n",
       "        text-align: right;\n",
       "    }\n",
       "</style>\n",
       "<table border=\"1\" class=\"dataframe\">\n",
       "  <thead>\n",
       "    <tr style=\"text-align: right;\">\n",
       "      <th></th>\n",
       "      <th>clCodeNm</th>\n",
       "      <th>fruit</th>\n",
       "      <th>succulent</th>\n",
       "      <th>vine</th>\n",
       "      <th>growthAra</th>\n",
       "      <th>growthHg</th>\n",
       "      <th>lightdemand</th>\n",
       "      <th>manage</th>\n",
       "      <th>watercycle</th>\n",
       "    </tr>\n",
       "    <tr>\n",
       "      <th>cntntsNo</th>\n",
       "      <th></th>\n",
       "      <th></th>\n",
       "      <th></th>\n",
       "      <th></th>\n",
       "      <th></th>\n",
       "      <th></th>\n",
       "      <th></th>\n",
       "      <th></th>\n",
       "      <th></th>\n",
       "    </tr>\n",
       "  </thead>\n",
       "  <tbody>\n",
       "    <tr>\n",
       "      <th>12938</th>\n",
       "      <td>1</td>\n",
       "      <td>1</td>\n",
       "      <td>0</td>\n",
       "      <td>0</td>\n",
       "      <td>1</td>\n",
       "      <td>1</td>\n",
       "      <td>2</td>\n",
       "      <td>58001</td>\n",
       "      <td>53003</td>\n",
       "    </tr>\n",
       "  </tbody>\n",
       "</table>\n",
       "</div>"
      ],
      "text/plain": [
       "          clCodeNm  fruit  succulent  vine  growthAra  growthHg  lightdemand  \\\n",
       "cntntsNo                                                                       \n",
       "12938            1      1          0     0          1         1            2   \n",
       "\n",
       "          manage  watercycle  \n",
       "cntntsNo                      \n",
       "12938      58001       53003  "
      ]
     },
     "execution_count": 122,
     "metadata": {},
     "output_type": "execute_result"
    }
   ],
   "source": [
    "df.head(1)"
   ]
  },
  {
   "cell_type": "markdown",
   "id": "6c0d8815",
   "metadata": {},
   "source": [
    "### 유클리디안 거리"
   ]
  },
  {
   "cell_type": "code",
   "execution_count": 123,
   "id": "9762e528",
   "metadata": {
    "ExecuteTime": {
     "end_time": "2023-06-08T12:53:46.877693Z",
     "start_time": "2023-06-08T12:53:46.857008Z"
    }
   },
   "outputs": [],
   "source": [
    "def euclidean(user_data):\n",
    "    distances = euclidean_distances(user_data.reshape(1, -1), df)\n",
    "    user_index = np.argmin(distances)\n",
    "    cluster_indices = np.where(pred == pred[user_index])[0]  # Get indices of points in the same cluster\n",
    "    cluster_distances = distances[:, cluster_indices]  # Extract distances of points in the same cluster\n",
    "    most_similar_index = np.argmin(cluster_distances)  # Find the index of the most similar point within the cluster\n",
    "    most_similar_point_index = cluster_indices[most_similar_index]  # Get the index of the most similar point in the original DataFrame\n",
    "\n",
    "    most_similar_point = df.iloc[most_similar_point_index]  # Get the most similar point from the original DataFrame\n",
    "\n",
    "    print(\"Most similar point:\")\n",
    "    print(most_similar_point)\n",
    "    column_values = df_o.loc[df_o['cntntsNo(컨텐츠 번호)'] == most_similar_point.name, \"cntntsSj(식물 명)\"]\n",
    "    print(\"Recommended plants:\", column_values)"
   ]
  },
  {
   "cell_type": "code",
   "execution_count": 124,
   "id": "ab7ef384",
   "metadata": {
    "ExecuteTime": {
     "end_time": "2023-06-08T12:53:46.898297Z",
     "start_time": "2023-06-08T12:53:46.881977Z"
    }
   },
   "outputs": [
    {
     "name": "stdout",
     "output_type": "stream",
     "text": [
      "Most similar point:\n",
      "clCodeNm           0\n",
      "fruit              0\n",
      "succulent          0\n",
      "vine               0\n",
      "growthAra          1\n",
      "growthHg           1\n",
      "lightdemand        2\n",
      "manage         58002\n",
      "watercycle     53003\n",
      "Name: 18581, dtype: int64\n",
      "Recommended plants: 144    은사철나무\n",
      "Name: cntntsSj(식물 명), dtype: object\n"
     ]
    }
   ],
   "source": [
    "euclidean(sy_data)"
   ]
  },
  {
   "cell_type": "code",
   "execution_count": 125,
   "id": "3acdd5e8",
   "metadata": {
    "ExecuteTime": {
     "end_time": "2023-06-08T12:53:46.913838Z",
     "start_time": "2023-06-08T12:53:46.898297Z"
    }
   },
   "outputs": [],
   "source": [
    "def euclidean_three(user_data):\n",
    "    distances = euclidean_distances(user_data.reshape(1, -1), df)\n",
    "    most_similar_point_indices = []\n",
    "    most_similar_points = []\n",
    "    user_index = np.argmin(distances)\n",
    "    cluster_indices = np.where(pred == pred[user_index])[0]  # Get indices of points in the same cluster\n",
    "    cluster_distances = distances[:, cluster_indices]  # Extract distances of points in the same cluster\n",
    "\n",
    "    # Find the indices of the 3 most similar points within the cluster\n",
    "    most_similar_indices = np.argsort(cluster_distances)[0][:3]\n",
    "    most_similar_indices = most_similar_indices.tolist()\n",
    "\n",
    "    for index in most_similar_indices:\n",
    "        most_similar_point_indices.append(cluster_indices[index])\n",
    "    # Get the 3 most similar points from the original DataFrame\n",
    "    for index in most_similar_point_indices:\n",
    "        most_similar_points.append(df.iloc[index])\n",
    "\n",
    "    # Print the 3 most similar points\n",
    "    for most_similar_point in most_similar_points:\n",
    "        print(most_similar_point)\n",
    "        recommended_plant = df_o.loc[df_o['cntntsNo(컨텐츠 번호)'] == most_similar_point.name, \"cntntsSj(식물 명)\"]\n",
    "        print(\"Recommended plants:\", recommended_plant )\n"
   ]
  },
  {
   "cell_type": "code",
   "execution_count": 126,
   "id": "fbc57695",
   "metadata": {
    "ExecuteTime": {
     "end_time": "2023-06-08T12:53:46.929562Z",
     "start_time": "2023-06-08T12:53:46.914914Z"
    },
    "scrolled": true
   },
   "outputs": [
    {
     "name": "stdout",
     "output_type": "stream",
     "text": [
      "clCodeNm           0\n",
      "fruit              0\n",
      "succulent          0\n",
      "vine               0\n",
      "growthAra          1\n",
      "growthHg           1\n",
      "lightdemand        2\n",
      "manage         58002\n",
      "watercycle     53003\n",
      "Name: 18581, dtype: int64\n",
      "Recommended plants: 144    은사철나무\n",
      "Name: cntntsSj(식물 명), dtype: object\n",
      "clCodeNm           0\n",
      "fruit              0\n",
      "succulent          0\n",
      "vine               0\n",
      "growthAra          2\n",
      "growthHg           1\n",
      "lightdemand        2\n",
      "manage         58002\n",
      "watercycle     53003\n",
      "Name: 18599, dtype: int64\n",
      "Recommended plants: 70    무늬접란\n",
      "Name: cntntsSj(식물 명), dtype: object\n",
      "clCodeNm           0\n",
      "fruit              0\n",
      "succulent          0\n",
      "vine               0\n",
      "growthAra          1\n",
      "growthHg           1\n",
      "lightdemand        2\n",
      "manage         58003\n",
      "watercycle     53003\n",
      "Name: 19706, dtype: int64\n",
      "Recommended plants: 105    수박페페로미아\n",
      "Name: cntntsSj(식물 명), dtype: object\n"
     ]
    }
   ],
   "source": [
    "euclidean_three(sy_data)"
   ]
  },
  {
   "cell_type": "markdown",
   "id": "c76fe1d9",
   "metadata": {},
   "source": [
    "### 코사인 유사도"
   ]
  },
  {
   "cell_type": "code",
   "execution_count": 127,
   "id": "87eb0f77",
   "metadata": {
    "ExecuteTime": {
     "end_time": "2023-06-08T12:53:46.945697Z",
     "start_time": "2023-06-08T12:53:46.931407Z"
    }
   },
   "outputs": [],
   "source": [
    "def cosine(user_data):\n",
    "    similarities = cosine_similarity(user_data.reshape(1, -1), df)\n",
    "    user_index = np.argmax(similarities)\n",
    "    cluster_indices = np.where(pred == pred[user_index])[0]  # Get indices of points in the same cluster\n",
    "    cluster_similar = similarities[:, cluster_indices]  # Extract distances of points in the same cluster\n",
    "    most_similar_index = np.argmax(cluster_similar)  # Find the index of the most similar point within the cluster\n",
    "    most_similar_point_index = cluster_indices[most_similar_index]  # Get the index of the most similar point in the original DataFrame\n",
    "\n",
    "    most_similar_point = df.iloc[most_similar_point_index]  # Get the most similar point from the original DataFrame\n",
    "\n",
    "    print(\"Most similar point:\")\n",
    "    print(most_similar_point)\n",
    "    column_values = df_o.loc[df_o['cntntsNo(컨텐츠 번호)'] == most_similar_point.name, \"cntntsSj(식물 명)\"]\n",
    "    print(\"Recommended plants:\", column_values)"
   ]
  },
  {
   "cell_type": "code",
   "execution_count": 128,
   "id": "e9e91c5d",
   "metadata": {
    "ExecuteTime": {
     "end_time": "2023-06-08T12:53:46.964796Z",
     "start_time": "2023-06-08T12:53:46.948231Z"
    },
    "scrolled": true
   },
   "outputs": [
    {
     "name": "stdout",
     "output_type": "stream",
     "text": [
      "Most similar point:\n",
      "clCodeNm           0\n",
      "fruit              0\n",
      "succulent          0\n",
      "vine               0\n",
      "growthAra          1\n",
      "growthHg           1\n",
      "lightdemand        2\n",
      "manage         58002\n",
      "watercycle     53003\n",
      "Name: 18581, dtype: int64\n",
      "Recommended plants: 144    은사철나무\n",
      "Name: cntntsSj(식물 명), dtype: object\n"
     ]
    }
   ],
   "source": [
    "cosine(sy_data)"
   ]
  },
  {
   "cell_type": "code",
   "execution_count": 129,
   "id": "473262f7",
   "metadata": {
    "ExecuteTime": {
     "end_time": "2023-06-08T12:53:46.980454Z",
     "start_time": "2023-06-08T12:53:46.964796Z"
    }
   },
   "outputs": [],
   "source": [
    "def cosine_three(user_data):\n",
    "    similarities = cosine_similarity(user_data.reshape(1, -1), df)\n",
    "    most_similar_point_indices = []\n",
    "    most_similar_points = []\n",
    "    user_index = np.argmax(similarities)\n",
    "    cluster_indices = np.where(pred == pred[user_index])[0]  # Get indices of points in the same cluster\n",
    "    cluster_similar = similarities[:, cluster_indices]  # Extract distances of points in the same cluster\n",
    "\n",
    "    # Find the indices of the 3 most similar points within the cluster\n",
    "    most_similar_indices = np.argsort(cluster_similar)[0][::-1][:3]\n",
    "    most_similar_indices = most_similar_indices.tolist()\n",
    "\n",
    "    for index in most_similar_indices:\n",
    "        most_similar_point_indices.append(cluster_indices[index])\n",
    "    # Get the 3 most similar points from the original DataFrame\n",
    "    for index in most_similar_point_indices:\n",
    "        most_similar_points.append(df.iloc[index])\n",
    "\n",
    "    # Print the 3 most similar points\n",
    "    for most_similar_point in most_similar_points:\n",
    "        print(most_similar_point)\n",
    "        recommended_plant = df_o.loc[df_o['cntntsNo(컨텐츠 번호)'] == most_similar_point.name, \"cntntsSj(식물 명)\"]\n",
    "        print(\"Recommended plants:\", recommended_plant )\n",
    "\n",
    "    "
   ]
  },
  {
   "cell_type": "code",
   "execution_count": 130,
   "id": "5efc7f29",
   "metadata": {
    "ExecuteTime": {
     "end_time": "2023-06-08T12:53:46.998156Z",
     "start_time": "2023-06-08T12:53:46.981436Z"
    }
   },
   "outputs": [
    {
     "name": "stdout",
     "output_type": "stream",
     "text": [
      "clCodeNm           0\n",
      "fruit              0\n",
      "succulent          0\n",
      "vine               0\n",
      "growthAra          1\n",
      "growthHg           1\n",
      "lightdemand        2\n",
      "manage         58002\n",
      "watercycle     53003\n",
      "Name: 18581, dtype: int64\n",
      "Recommended plants: 144    은사철나무\n",
      "Name: cntntsSj(식물 명), dtype: object\n",
      "clCodeNm           0\n",
      "fruit              0\n",
      "succulent          0\n",
      "vine               0\n",
      "growthAra          1\n",
      "growthHg           1\n",
      "lightdemand        2\n",
      "manage         58003\n",
      "watercycle     53003\n",
      "Name: 16038, dtype: int64\n",
      "Recommended plants: 54    마란타 류코뉴라\n",
      "Name: cntntsSj(식물 명), dtype: object\n",
      "clCodeNm           0\n",
      "fruit              0\n",
      "succulent          0\n",
      "vine               0\n",
      "growthAra          1\n",
      "growthHg           1\n",
      "lightdemand        2\n",
      "manage         58003\n",
      "watercycle     53003\n",
      "Name: 19706, dtype: int64\n",
      "Recommended plants: 105    수박페페로미아\n",
      "Name: cntntsSj(식물 명), dtype: object\n"
     ]
    }
   ],
   "source": [
    "cosine_three(sy_data)"
   ]
  }
 ],
 "metadata": {
  "kernelspec": {
   "display_name": "Python 3 (ipykernel)",
   "language": "python",
   "name": "python3"
  },
  "language_info": {
   "codemirror_mode": {
    "name": "ipython",
    "version": 3
   },
   "file_extension": ".py",
   "mimetype": "text/x-python",
   "name": "python",
   "nbconvert_exporter": "python",
   "pygments_lexer": "ipython3",
   "version": "3.9.0"
  },
  "toc": {
   "base_numbering": 1,
   "nav_menu": {},
   "number_sections": true,
   "sideBar": true,
   "skip_h1_title": false,
   "title_cell": "Table of Contents",
   "title_sidebar": "Contents",
   "toc_cell": false,
   "toc_position": {},
   "toc_section_display": true,
   "toc_window_display": false
  }
 },
 "nbformat": 4,
 "nbformat_minor": 5
}
