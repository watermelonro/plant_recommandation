{
 "cells": [
  {
   "cell_type": "code",
   "execution_count": 1,
   "id": "4a5699ce",
   "metadata": {
    "ExecuteTime": {
     "end_time": "2023-06-10T05:28:27.164699Z",
     "start_time": "2023-06-10T05:28:18.472053Z"
    }
   },
   "outputs": [],
   "source": [
    "import pandas as pd\n",
    "from sklearn.cluster import KMeans\n",
    "import matplotlib.pyplot as plt\n",
    "import numpy as np\n",
    "import seaborn as sns\n",
    "from sklearn.metrics.pairwise import euclidean_distances, cosine_similarity"
   ]
  },
  {
   "cell_type": "code",
   "execution_count": 2,
   "id": "6aca9f0b",
   "metadata": {
    "ExecuteTime": {
     "end_time": "2023-06-10T05:28:27.205820Z",
     "start_time": "2023-06-10T05:28:27.164699Z"
    }
   },
   "outputs": [],
   "source": [
    "df_o = pd.read_csv(\"./data/식물_전처리 - merged_df(4차)_2.csv\")"
   ]
  },
  {
   "cell_type": "code",
   "execution_count": 3,
   "id": "218b5167",
   "metadata": {
    "ExecuteTime": {
     "end_time": "2023-06-10T05:28:27.239057Z",
     "start_time": "2023-06-10T05:28:27.205820Z"
    },
    "scrolled": true
   },
   "outputs": [
    {
     "data": {
      "text/html": [
       "<div>\n",
       "<style scoped>\n",
       "    .dataframe tbody tr th:only-of-type {\n",
       "        vertical-align: middle;\n",
       "    }\n",
       "\n",
       "    .dataframe tbody tr th {\n",
       "        vertical-align: top;\n",
       "    }\n",
       "\n",
       "    .dataframe thead th {\n",
       "        text-align: right;\n",
       "    }\n",
       "</style>\n",
       "<table border=\"1\" class=\"dataframe\">\n",
       "  <thead>\n",
       "    <tr style=\"text-align: right;\">\n",
       "      <th></th>\n",
       "      <th>cntntsNo(컨텐츠 번호)</th>\n",
       "      <th>cntntsSj(식물 명)</th>\n",
       "      <th>clCodeNm(꽃 여부)</th>\n",
       "      <th>열매여부</th>\n",
       "      <th>다육</th>\n",
       "      <th>덩굴</th>\n",
       "      <th>growthAraInfo (성장 넓이 정보)</th>\n",
       "      <th>growthHgInfo (성장 높이 정보)</th>\n",
       "      <th>lighttdemanddoCodeNm (광요구도 코드)</th>\n",
       "      <th>managedemanddoCode (관리요구도 코드)</th>\n",
       "      <th>watercycleSummerCode (물주기 여름 코드)</th>\n",
       "    </tr>\n",
       "  </thead>\n",
       "  <tbody>\n",
       "    <tr>\n",
       "      <th>0</th>\n",
       "      <td>12938</td>\n",
       "      <td>가울테리아</td>\n",
       "      <td>1</td>\n",
       "      <td>1</td>\n",
       "      <td>0</td>\n",
       "      <td>0</td>\n",
       "      <td>1</td>\n",
       "      <td>1</td>\n",
       "      <td>2</td>\n",
       "      <td>58001</td>\n",
       "      <td>53003</td>\n",
       "    </tr>\n",
       "    <tr>\n",
       "      <th>1</th>\n",
       "      <td>12954</td>\n",
       "      <td>개운죽</td>\n",
       "      <td>0</td>\n",
       "      <td>0</td>\n",
       "      <td>0</td>\n",
       "      <td>0</td>\n",
       "      <td>2</td>\n",
       "      <td>2</td>\n",
       "      <td>1</td>\n",
       "      <td>58001</td>\n",
       "      <td>53002</td>\n",
       "    </tr>\n",
       "    <tr>\n",
       "      <th>2</th>\n",
       "      <td>12955</td>\n",
       "      <td>골드크레스트 '윌마'</td>\n",
       "      <td>0</td>\n",
       "      <td>0</td>\n",
       "      <td>0</td>\n",
       "      <td>0</td>\n",
       "      <td>2</td>\n",
       "      <td>3</td>\n",
       "      <td>4</td>\n",
       "      <td>58002</td>\n",
       "      <td>53003</td>\n",
       "    </tr>\n",
       "    <tr>\n",
       "      <th>3</th>\n",
       "      <td>12957</td>\n",
       "      <td>공작야자</td>\n",
       "      <td>0</td>\n",
       "      <td>0</td>\n",
       "      <td>0</td>\n",
       "      <td>0</td>\n",
       "      <td>3</td>\n",
       "      <td>3</td>\n",
       "      <td>2</td>\n",
       "      <td>58003</td>\n",
       "      <td>53003</td>\n",
       "    </tr>\n",
       "    <tr>\n",
       "      <th>4</th>\n",
       "      <td>12962</td>\n",
       "      <td>관엽베고니아</td>\n",
       "      <td>1</td>\n",
       "      <td>0</td>\n",
       "      <td>0</td>\n",
       "      <td>0</td>\n",
       "      <td>2</td>\n",
       "      <td>1</td>\n",
       "      <td>2</td>\n",
       "      <td>58002</td>\n",
       "      <td>53003</td>\n",
       "    </tr>\n",
       "    <tr>\n",
       "      <th>...</th>\n",
       "      <td>...</td>\n",
       "      <td>...</td>\n",
       "      <td>...</td>\n",
       "      <td>...</td>\n",
       "      <td>...</td>\n",
       "      <td>...</td>\n",
       "      <td>...</td>\n",
       "      <td>...</td>\n",
       "      <td>...</td>\n",
       "      <td>...</td>\n",
       "      <td>...</td>\n",
       "    </tr>\n",
       "    <tr>\n",
       "      <th>212</th>\n",
       "      <td>12932</td>\n",
       "      <td>황금죽</td>\n",
       "      <td>0</td>\n",
       "      <td>0</td>\n",
       "      <td>0</td>\n",
       "      <td>0</td>\n",
       "      <td>2</td>\n",
       "      <td>3</td>\n",
       "      <td>2</td>\n",
       "      <td>58003</td>\n",
       "      <td>53003</td>\n",
       "    </tr>\n",
       "    <tr>\n",
       "      <th>213</th>\n",
       "      <td>12956</td>\n",
       "      <td>후피향나무</td>\n",
       "      <td>0</td>\n",
       "      <td>0</td>\n",
       "      <td>0</td>\n",
       "      <td>0</td>\n",
       "      <td>2</td>\n",
       "      <td>3</td>\n",
       "      <td>4</td>\n",
       "      <td>58001</td>\n",
       "      <td>53003</td>\n",
       "    </tr>\n",
       "    <tr>\n",
       "      <th>214</th>\n",
       "      <td>12920</td>\n",
       "      <td>흰꽃나도사프란</td>\n",
       "      <td>1</td>\n",
       "      <td>0</td>\n",
       "      <td>0</td>\n",
       "      <td>0</td>\n",
       "      <td>2</td>\n",
       "      <td>1</td>\n",
       "      <td>4</td>\n",
       "      <td>58001</td>\n",
       "      <td>53003</td>\n",
       "    </tr>\n",
       "    <tr>\n",
       "      <th>215</th>\n",
       "      <td>12919</td>\n",
       "      <td>흰줄무늬달개비(트라데스칸티아)</td>\n",
       "      <td>0</td>\n",
       "      <td>0</td>\n",
       "      <td>0</td>\n",
       "      <td>1</td>\n",
       "      <td>2</td>\n",
       "      <td>1</td>\n",
       "      <td>2</td>\n",
       "      <td>58002</td>\n",
       "      <td>53003</td>\n",
       "    </tr>\n",
       "    <tr>\n",
       "      <th>216</th>\n",
       "      <td>12901</td>\n",
       "      <td>히포에스테스</td>\n",
       "      <td>0</td>\n",
       "      <td>0</td>\n",
       "      <td>0</td>\n",
       "      <td>0</td>\n",
       "      <td>2</td>\n",
       "      <td>1</td>\n",
       "      <td>2</td>\n",
       "      <td>58002</td>\n",
       "      <td>53002</td>\n",
       "    </tr>\n",
       "  </tbody>\n",
       "</table>\n",
       "<p>217 rows × 11 columns</p>\n",
       "</div>"
      ],
      "text/plain": [
       "     cntntsNo(컨텐츠 번호)    cntntsSj(식물 명)  clCodeNm(꽃 여부)  열매여부  다육  덩굴  \\\n",
       "0               12938             가울테리아               1     1   0   0   \n",
       "1               12954               개운죽               0     0   0   0   \n",
       "2               12955       골드크레스트 '윌마'               0     0   0   0   \n",
       "3               12957              공작야자               0     0   0   0   \n",
       "4               12962            관엽베고니아               1     0   0   0   \n",
       "..                ...               ...             ...   ...  ..  ..   \n",
       "212             12932               황금죽               0     0   0   0   \n",
       "213             12956             후피향나무               0     0   0   0   \n",
       "214             12920           흰꽃나도사프란               1     0   0   0   \n",
       "215             12919  흰줄무늬달개비(트라데스칸티아)               0     0   0   1   \n",
       "216             12901            히포에스테스               0     0   0   0   \n",
       "\n",
       "     growthAraInfo (성장 넓이 정보)  growthHgInfo (성장 높이 정보)  \\\n",
       "0                           1                        1   \n",
       "1                           2                        2   \n",
       "2                           2                        3   \n",
       "3                           3                        3   \n",
       "4                           2                        1   \n",
       "..                        ...                      ...   \n",
       "212                         2                        3   \n",
       "213                         2                        3   \n",
       "214                         2                        1   \n",
       "215                         2                        1   \n",
       "216                         2                        1   \n",
       "\n",
       "     lighttdemanddoCodeNm (광요구도 코드)  managedemanddoCode (관리요구도 코드)  \\\n",
       "0                                 2                          58001   \n",
       "1                                 1                          58001   \n",
       "2                                 4                          58002   \n",
       "3                                 2                          58003   \n",
       "4                                 2                          58002   \n",
       "..                              ...                            ...   \n",
       "212                               2                          58003   \n",
       "213                               4                          58001   \n",
       "214                               4                          58001   \n",
       "215                               2                          58002   \n",
       "216                               2                          58002   \n",
       "\n",
       "     watercycleSummerCode (물주기 여름 코드)  \n",
       "0                               53003  \n",
       "1                               53002  \n",
       "2                               53003  \n",
       "3                               53003  \n",
       "4                               53003  \n",
       "..                                ...  \n",
       "212                             53003  \n",
       "213                             53003  \n",
       "214                             53003  \n",
       "215                             53003  \n",
       "216                             53002  \n",
       "\n",
       "[217 rows x 11 columns]"
      ]
     },
     "execution_count": 3,
     "metadata": {},
     "output_type": "execute_result"
    }
   ],
   "source": [
    "df_o"
   ]
  },
  {
   "cell_type": "code",
   "execution_count": 4,
   "id": "15deda97",
   "metadata": {
    "ExecuteTime": {
     "end_time": "2023-06-10T05:28:27.255186Z",
     "start_time": "2023-06-10T05:28:27.240561Z"
    }
   },
   "outputs": [],
   "source": [
    "df = df_o.drop(columns='cntntsSj(식물 명)')"
   ]
  },
  {
   "cell_type": "code",
   "execution_count": 5,
   "id": "1b3a0dea",
   "metadata": {
    "ExecuteTime": {
     "end_time": "2023-06-10T05:28:27.279856Z",
     "start_time": "2023-06-10T05:28:27.260834Z"
    }
   },
   "outputs": [
    {
     "data": {
      "text/html": [
       "<div>\n",
       "<style scoped>\n",
       "    .dataframe tbody tr th:only-of-type {\n",
       "        vertical-align: middle;\n",
       "    }\n",
       "\n",
       "    .dataframe tbody tr th {\n",
       "        vertical-align: top;\n",
       "    }\n",
       "\n",
       "    .dataframe thead th {\n",
       "        text-align: right;\n",
       "    }\n",
       "</style>\n",
       "<table border=\"1\" class=\"dataframe\">\n",
       "  <thead>\n",
       "    <tr style=\"text-align: right;\">\n",
       "      <th></th>\n",
       "      <th>cntntsNo</th>\n",
       "      <th>clCodeNm</th>\n",
       "      <th>fruit</th>\n",
       "      <th>succulent</th>\n",
       "      <th>vine</th>\n",
       "      <th>growthAra</th>\n",
       "      <th>growthHg</th>\n",
       "      <th>lightdemand</th>\n",
       "      <th>manage</th>\n",
       "      <th>watercycle</th>\n",
       "    </tr>\n",
       "  </thead>\n",
       "  <tbody>\n",
       "    <tr>\n",
       "      <th>0</th>\n",
       "      <td>12938</td>\n",
       "      <td>1</td>\n",
       "      <td>1</td>\n",
       "      <td>0</td>\n",
       "      <td>0</td>\n",
       "      <td>1</td>\n",
       "      <td>1</td>\n",
       "      <td>2</td>\n",
       "      <td>58001</td>\n",
       "      <td>53003</td>\n",
       "    </tr>\n",
       "    <tr>\n",
       "      <th>1</th>\n",
       "      <td>12954</td>\n",
       "      <td>0</td>\n",
       "      <td>0</td>\n",
       "      <td>0</td>\n",
       "      <td>0</td>\n",
       "      <td>2</td>\n",
       "      <td>2</td>\n",
       "      <td>1</td>\n",
       "      <td>58001</td>\n",
       "      <td>53002</td>\n",
       "    </tr>\n",
       "    <tr>\n",
       "      <th>2</th>\n",
       "      <td>12955</td>\n",
       "      <td>0</td>\n",
       "      <td>0</td>\n",
       "      <td>0</td>\n",
       "      <td>0</td>\n",
       "      <td>2</td>\n",
       "      <td>3</td>\n",
       "      <td>4</td>\n",
       "      <td>58002</td>\n",
       "      <td>53003</td>\n",
       "    </tr>\n",
       "    <tr>\n",
       "      <th>3</th>\n",
       "      <td>12957</td>\n",
       "      <td>0</td>\n",
       "      <td>0</td>\n",
       "      <td>0</td>\n",
       "      <td>0</td>\n",
       "      <td>3</td>\n",
       "      <td>3</td>\n",
       "      <td>2</td>\n",
       "      <td>58003</td>\n",
       "      <td>53003</td>\n",
       "    </tr>\n",
       "    <tr>\n",
       "      <th>4</th>\n",
       "      <td>12962</td>\n",
       "      <td>1</td>\n",
       "      <td>0</td>\n",
       "      <td>0</td>\n",
       "      <td>0</td>\n",
       "      <td>2</td>\n",
       "      <td>1</td>\n",
       "      <td>2</td>\n",
       "      <td>58002</td>\n",
       "      <td>53003</td>\n",
       "    </tr>\n",
       "  </tbody>\n",
       "</table>\n",
       "</div>"
      ],
      "text/plain": [
       "   cntntsNo  clCodeNm  fruit  succulent  vine  growthAra  growthHg  \\\n",
       "0     12938         1      1          0     0          1         1   \n",
       "1     12954         0      0          0     0          2         2   \n",
       "2     12955         0      0          0     0          2         3   \n",
       "3     12957         0      0          0     0          3         3   \n",
       "4     12962         1      0          0     0          2         1   \n",
       "\n",
       "   lightdemand  manage  watercycle  \n",
       "0            2   58001       53003  \n",
       "1            1   58001       53002  \n",
       "2            4   58002       53003  \n",
       "3            2   58003       53003  \n",
       "4            2   58002       53003  "
      ]
     },
     "execution_count": 5,
     "metadata": {},
     "output_type": "execute_result"
    }
   ],
   "source": [
    "new_column_names = [\"cntntsNo\", \"clCodeNm\", \"fruit\", \"succulent\", \"vine\",\\\n",
    "                    \"growthAra\", \"growthHg\", \"lightdemand\", \"manage\", \"watercycle\"]\n",
    "df.columns = new_column_names\n",
    "df.head()"
   ]
  },
  {
   "cell_type": "code",
   "execution_count": 6,
   "id": "5606bcc4",
   "metadata": {
    "ExecuteTime": {
     "end_time": "2023-06-10T05:28:27.313079Z",
     "start_time": "2023-06-10T05:28:27.281778Z"
    }
   },
   "outputs": [
    {
     "data": {
      "text/html": [
       "<div>\n",
       "<style scoped>\n",
       "    .dataframe tbody tr th:only-of-type {\n",
       "        vertical-align: middle;\n",
       "    }\n",
       "\n",
       "    .dataframe tbody tr th {\n",
       "        vertical-align: top;\n",
       "    }\n",
       "\n",
       "    .dataframe thead th {\n",
       "        text-align: right;\n",
       "    }\n",
       "</style>\n",
       "<table border=\"1\" class=\"dataframe\">\n",
       "  <thead>\n",
       "    <tr style=\"text-align: right;\">\n",
       "      <th></th>\n",
       "      <th>clCodeNm</th>\n",
       "      <th>fruit</th>\n",
       "      <th>succulent</th>\n",
       "      <th>vine</th>\n",
       "      <th>growthAra</th>\n",
       "      <th>growthHg</th>\n",
       "      <th>lightdemand</th>\n",
       "      <th>manage</th>\n",
       "      <th>watercycle</th>\n",
       "    </tr>\n",
       "    <tr>\n",
       "      <th>cntntsNo</th>\n",
       "      <th></th>\n",
       "      <th></th>\n",
       "      <th></th>\n",
       "      <th></th>\n",
       "      <th></th>\n",
       "      <th></th>\n",
       "      <th></th>\n",
       "      <th></th>\n",
       "      <th></th>\n",
       "    </tr>\n",
       "  </thead>\n",
       "  <tbody>\n",
       "    <tr>\n",
       "      <th>12938</th>\n",
       "      <td>1</td>\n",
       "      <td>1</td>\n",
       "      <td>0</td>\n",
       "      <td>0</td>\n",
       "      <td>1</td>\n",
       "      <td>1</td>\n",
       "      <td>2</td>\n",
       "      <td>58001</td>\n",
       "      <td>53003</td>\n",
       "    </tr>\n",
       "    <tr>\n",
       "      <th>12954</th>\n",
       "      <td>0</td>\n",
       "      <td>0</td>\n",
       "      <td>0</td>\n",
       "      <td>0</td>\n",
       "      <td>2</td>\n",
       "      <td>2</td>\n",
       "      <td>1</td>\n",
       "      <td>58001</td>\n",
       "      <td>53002</td>\n",
       "    </tr>\n",
       "    <tr>\n",
       "      <th>12955</th>\n",
       "      <td>0</td>\n",
       "      <td>0</td>\n",
       "      <td>0</td>\n",
       "      <td>0</td>\n",
       "      <td>2</td>\n",
       "      <td>3</td>\n",
       "      <td>4</td>\n",
       "      <td>58002</td>\n",
       "      <td>53003</td>\n",
       "    </tr>\n",
       "    <tr>\n",
       "      <th>12957</th>\n",
       "      <td>0</td>\n",
       "      <td>0</td>\n",
       "      <td>0</td>\n",
       "      <td>0</td>\n",
       "      <td>3</td>\n",
       "      <td>3</td>\n",
       "      <td>2</td>\n",
       "      <td>58003</td>\n",
       "      <td>53003</td>\n",
       "    </tr>\n",
       "    <tr>\n",
       "      <th>12962</th>\n",
       "      <td>1</td>\n",
       "      <td>0</td>\n",
       "      <td>0</td>\n",
       "      <td>0</td>\n",
       "      <td>2</td>\n",
       "      <td>1</td>\n",
       "      <td>2</td>\n",
       "      <td>58002</td>\n",
       "      <td>53003</td>\n",
       "    </tr>\n",
       "    <tr>\n",
       "      <th>...</th>\n",
       "      <td>...</td>\n",
       "      <td>...</td>\n",
       "      <td>...</td>\n",
       "      <td>...</td>\n",
       "      <td>...</td>\n",
       "      <td>...</td>\n",
       "      <td>...</td>\n",
       "      <td>...</td>\n",
       "      <td>...</td>\n",
       "    </tr>\n",
       "    <tr>\n",
       "      <th>12932</th>\n",
       "      <td>0</td>\n",
       "      <td>0</td>\n",
       "      <td>0</td>\n",
       "      <td>0</td>\n",
       "      <td>2</td>\n",
       "      <td>3</td>\n",
       "      <td>2</td>\n",
       "      <td>58003</td>\n",
       "      <td>53003</td>\n",
       "    </tr>\n",
       "    <tr>\n",
       "      <th>12956</th>\n",
       "      <td>0</td>\n",
       "      <td>0</td>\n",
       "      <td>0</td>\n",
       "      <td>0</td>\n",
       "      <td>2</td>\n",
       "      <td>3</td>\n",
       "      <td>4</td>\n",
       "      <td>58001</td>\n",
       "      <td>53003</td>\n",
       "    </tr>\n",
       "    <tr>\n",
       "      <th>12920</th>\n",
       "      <td>1</td>\n",
       "      <td>0</td>\n",
       "      <td>0</td>\n",
       "      <td>0</td>\n",
       "      <td>2</td>\n",
       "      <td>1</td>\n",
       "      <td>4</td>\n",
       "      <td>58001</td>\n",
       "      <td>53003</td>\n",
       "    </tr>\n",
       "    <tr>\n",
       "      <th>12919</th>\n",
       "      <td>0</td>\n",
       "      <td>0</td>\n",
       "      <td>0</td>\n",
       "      <td>1</td>\n",
       "      <td>2</td>\n",
       "      <td>1</td>\n",
       "      <td>2</td>\n",
       "      <td>58002</td>\n",
       "      <td>53003</td>\n",
       "    </tr>\n",
       "    <tr>\n",
       "      <th>12901</th>\n",
       "      <td>0</td>\n",
       "      <td>0</td>\n",
       "      <td>0</td>\n",
       "      <td>0</td>\n",
       "      <td>2</td>\n",
       "      <td>1</td>\n",
       "      <td>2</td>\n",
       "      <td>58002</td>\n",
       "      <td>53002</td>\n",
       "    </tr>\n",
       "  </tbody>\n",
       "</table>\n",
       "<p>217 rows × 9 columns</p>\n",
       "</div>"
      ],
      "text/plain": [
       "          clCodeNm  fruit  succulent  vine  growthAra  growthHg  lightdemand  \\\n",
       "cntntsNo                                                                       \n",
       "12938            1      1          0     0          1         1            2   \n",
       "12954            0      0          0     0          2         2            1   \n",
       "12955            0      0          0     0          2         3            4   \n",
       "12957            0      0          0     0          3         3            2   \n",
       "12962            1      0          0     0          2         1            2   \n",
       "...            ...    ...        ...   ...        ...       ...          ...   \n",
       "12932            0      0          0     0          2         3            2   \n",
       "12956            0      0          0     0          2         3            4   \n",
       "12920            1      0          0     0          2         1            4   \n",
       "12919            0      0          0     1          2         1            2   \n",
       "12901            0      0          0     0          2         1            2   \n",
       "\n",
       "          manage  watercycle  \n",
       "cntntsNo                      \n",
       "12938      58001       53003  \n",
       "12954      58001       53002  \n",
       "12955      58002       53003  \n",
       "12957      58003       53003  \n",
       "12962      58002       53003  \n",
       "...          ...         ...  \n",
       "12932      58003       53003  \n",
       "12956      58001       53003  \n",
       "12920      58001       53003  \n",
       "12919      58002       53003  \n",
       "12901      58002       53002  \n",
       "\n",
       "[217 rows x 9 columns]"
      ]
     },
     "execution_count": 6,
     "metadata": {},
     "output_type": "execute_result"
    }
   ],
   "source": [
    "df = df.set_index('cntntsNo')\n",
    "df"
   ]
  },
  {
   "cell_type": "code",
   "execution_count": 7,
   "id": "5321477b",
   "metadata": {
    "ExecuteTime": {
     "end_time": "2023-06-10T05:28:27.984206Z",
     "start_time": "2023-06-10T05:28:27.316645Z"
    }
   },
   "outputs": [
    {
     "name": "stderr",
     "output_type": "stream",
     "text": [
      "c:\\users\\ahneunjeong\\appdata\\local\\programs\\python\\python39\\lib\\site-packages\\sklearn\\cluster\\_kmeans.py:870: FutureWarning: The default value of `n_init` will change from 10 to 'auto' in 1.4. Set the value of `n_init` explicitly to suppress the warning\n",
      "  warnings.warn(\n",
      "c:\\users\\ahneunjeong\\appdata\\local\\programs\\python\\python39\\lib\\site-packages\\sklearn\\cluster\\_kmeans.py:870: FutureWarning: The default value of `n_init` will change from 10 to 'auto' in 1.4. Set the value of `n_init` explicitly to suppress the warning\n",
      "  warnings.warn(\n",
      "c:\\users\\ahneunjeong\\appdata\\local\\programs\\python\\python39\\lib\\site-packages\\sklearn\\cluster\\_kmeans.py:870: FutureWarning: The default value of `n_init` will change from 10 to 'auto' in 1.4. Set the value of `n_init` explicitly to suppress the warning\n",
      "  warnings.warn(\n",
      "c:\\users\\ahneunjeong\\appdata\\local\\programs\\python\\python39\\lib\\site-packages\\sklearn\\cluster\\_kmeans.py:870: FutureWarning: The default value of `n_init` will change from 10 to 'auto' in 1.4. Set the value of `n_init` explicitly to suppress the warning\n",
      "  warnings.warn(\n",
      "c:\\users\\ahneunjeong\\appdata\\local\\programs\\python\\python39\\lib\\site-packages\\sklearn\\cluster\\_kmeans.py:870: FutureWarning: The default value of `n_init` will change from 10 to 'auto' in 1.4. Set the value of `n_init` explicitly to suppress the warning\n",
      "  warnings.warn(\n",
      "c:\\users\\ahneunjeong\\appdata\\local\\programs\\python\\python39\\lib\\site-packages\\sklearn\\cluster\\_kmeans.py:870: FutureWarning: The default value of `n_init` will change from 10 to 'auto' in 1.4. Set the value of `n_init` explicitly to suppress the warning\n",
      "  warnings.warn(\n",
      "c:\\users\\ahneunjeong\\appdata\\local\\programs\\python\\python39\\lib\\site-packages\\sklearn\\cluster\\_kmeans.py:870: FutureWarning: The default value of `n_init` will change from 10 to 'auto' in 1.4. Set the value of `n_init` explicitly to suppress the warning\n",
      "  warnings.warn(\n",
      "c:\\users\\ahneunjeong\\appdata\\local\\programs\\python\\python39\\lib\\site-packages\\sklearn\\cluster\\_kmeans.py:870: FutureWarning: The default value of `n_init` will change from 10 to 'auto' in 1.4. Set the value of `n_init` explicitly to suppress the warning\n",
      "  warnings.warn(\n",
      "c:\\users\\ahneunjeong\\appdata\\local\\programs\\python\\python39\\lib\\site-packages\\sklearn\\cluster\\_kmeans.py:870: FutureWarning: The default value of `n_init` will change from 10 to 'auto' in 1.4. Set the value of `n_init` explicitly to suppress the warning\n",
      "  warnings.warn(\n"
     ]
    }
   ],
   "source": [
    "inertia_list = []\n",
    "for i in range(2,11):\n",
    "    km = KMeans(n_clusters=i)\n",
    "    km.fit(df)\n",
    "    inertia_list.append(km.inertia_)"
   ]
  },
  {
   "cell_type": "code",
   "execution_count": 8,
   "id": "973ee1e2",
   "metadata": {
    "ExecuteTime": {
     "end_time": "2023-06-10T05:28:28.279065Z",
     "start_time": "2023-06-10T05:28:27.985671Z"
    },
    "scrolled": false
   },
   "outputs": [
    {
     "data": {
      "text/plain": [
       "<AxesSubplot: >"
      ]
     },
     "execution_count": 8,
     "metadata": {},
     "output_type": "execute_result"
    },
    {
     "data": {
      "image/png": "[encoded data removed]",
      "text/plain": [
       "<Figure size 640x480 with 1 Axes>"
      ]
     },
     "metadata": {},
     "output_type": "display_data"
    }
   ],
   "source": [
    "sns.lineplot(x=range(2,11),y=inertia_list)\n",
    "# 엘보 스코어가 안 보임 "
   ]
  },
  {
   "cell_type": "code",
   "execution_count": 9,
   "id": "6ad5ae1c",
   "metadata": {
    "ExecuteTime": {
     "end_time": "2023-06-10T05:28:28.295511Z",
     "start_time": "2023-06-10T05:28:28.280550Z"
    }
   },
   "outputs": [],
   "source": [
    "from sklearn.metrics import silhouette_score"
   ]
  },
  {
   "cell_type": "code",
   "execution_count": 10,
   "id": "96b7d74f",
   "metadata": {
    "ExecuteTime": {
     "end_time": "2023-06-10T05:28:29.170660Z",
     "start_time": "2023-06-10T05:28:28.300496Z"
    }
   },
   "outputs": [
    {
     "name": "stderr",
     "output_type": "stream",
     "text": [
      "c:\\users\\ahneunjeong\\appdata\\local\\programs\\python\\python39\\lib\\site-packages\\sklearn\\cluster\\_kmeans.py:870: FutureWarning: The default value of `n_init` will change from 10 to 'auto' in 1.4. Set the value of `n_init` explicitly to suppress the warning\n",
      "  warnings.warn(\n",
      "c:\\users\\ahneunjeong\\appdata\\local\\programs\\python\\python39\\lib\\site-packages\\sklearn\\cluster\\_kmeans.py:870: FutureWarning: The default value of `n_init` will change from 10 to 'auto' in 1.4. Set the value of `n_init` explicitly to suppress the warning\n",
      "  warnings.warn(\n",
      "c:\\users\\ahneunjeong\\appdata\\local\\programs\\python\\python39\\lib\\site-packages\\sklearn\\cluster\\_kmeans.py:870: FutureWarning: The default value of `n_init` will change from 10 to 'auto' in 1.4. Set the value of `n_init` explicitly to suppress the warning\n",
      "  warnings.warn(\n",
      "c:\\users\\ahneunjeong\\appdata\\local\\programs\\python\\python39\\lib\\site-packages\\sklearn\\cluster\\_kmeans.py:870: FutureWarning: The default value of `n_init` will change from 10 to 'auto' in 1.4. Set the value of `n_init` explicitly to suppress the warning\n",
      "  warnings.warn(\n",
      "c:\\users\\ahneunjeong\\appdata\\local\\programs\\python\\python39\\lib\\site-packages\\sklearn\\cluster\\_kmeans.py:870: FutureWarning: The default value of `n_init` will change from 10 to 'auto' in 1.4. Set the value of `n_init` explicitly to suppress the warning\n",
      "  warnings.warn(\n",
      "c:\\users\\ahneunjeong\\appdata\\local\\programs\\python\\python39\\lib\\site-packages\\sklearn\\cluster\\_kmeans.py:870: FutureWarning: The default value of `n_init` will change from 10 to 'auto' in 1.4. Set the value of `n_init` explicitly to suppress the warning\n",
      "  warnings.warn(\n",
      "c:\\users\\ahneunjeong\\appdata\\local\\programs\\python\\python39\\lib\\site-packages\\sklearn\\cluster\\_kmeans.py:870: FutureWarning: The default value of `n_init` will change from 10 to 'auto' in 1.4. Set the value of `n_init` explicitly to suppress the warning\n",
      "  warnings.warn(\n",
      "c:\\users\\ahneunjeong\\appdata\\local\\programs\\python\\python39\\lib\\site-packages\\sklearn\\cluster\\_kmeans.py:870: FutureWarning: The default value of `n_init` will change from 10 to 'auto' in 1.4. Set the value of `n_init` explicitly to suppress the warning\n",
      "  warnings.warn(\n",
      "c:\\users\\ahneunjeong\\appdata\\local\\programs\\python\\python39\\lib\\site-packages\\sklearn\\cluster\\_kmeans.py:870: FutureWarning: The default value of `n_init` will change from 10 to 'auto' in 1.4. Set the value of `n_init` explicitly to suppress the warning\n",
      "  warnings.warn(\n"
     ]
    }
   ],
   "source": [
    "score = []\n",
    "for i in range(2,11):\n",
    "    km = KMeans(n_clusters=i,random_state=10)\n",
    "    km.fit(df)\n",
    "    pred=km.predict(df)\n",
    "    score.append(silhouette_score(df,pred))"
   ]
  },
  {
   "cell_type": "code",
   "execution_count": 11,
   "id": "a95fd786",
   "metadata": {
    "ExecuteTime": {
     "end_time": "2023-06-10T05:28:29.550980Z",
     "start_time": "2023-06-10T05:28:29.175852Z"
    }
   },
   "outputs": [
    {
     "data": {
      "text/plain": [
       "<AxesSubplot: >"
      ]
     },
     "execution_count": 11,
     "metadata": {},
     "output_type": "execute_result"
    },
    {
     "data": {
      "image/png": "[encoded data removed]",
      "text/plain": [
       "<Figure size 640x480 with 1 Axes>"
      ]
     },
     "metadata": {},
     "output_type": "display_data"
    }
   ],
   "source": [
    "sns.lineplot(x=range(2,11),y=score)"
   ]
  },
  {
   "cell_type": "code",
   "execution_count": 12,
   "id": "7fd3b435",
   "metadata": {
    "ExecuteTime": {
     "end_time": "2023-06-10T05:28:29.562043Z",
     "start_time": "2023-06-10T05:28:29.553984Z"
    }
   },
   "outputs": [],
   "source": [
    "n_clusters = 3"
   ]
  },
  {
   "cell_type": "code",
   "execution_count": 13,
   "id": "de3f72a1",
   "metadata": {
    "ExecuteTime": {
     "end_time": "2023-06-10T05:28:29.708905Z",
     "start_time": "2023-06-10T05:28:29.562043Z"
    }
   },
   "outputs": [
    {
     "name": "stderr",
     "output_type": "stream",
     "text": [
      "c:\\users\\ahneunjeong\\appdata\\local\\programs\\python\\python39\\lib\\site-packages\\sklearn\\cluster\\_kmeans.py:870: FutureWarning: The default value of `n_init` will change from 10 to 'auto' in 1.4. Set the value of `n_init` explicitly to suppress the warning\n",
      "  warnings.warn(\n"
     ]
    },
    {
     "data": {
      "text/html": [
       "<style>#sk-container-id-1 {color: black;background-color: white;}#sk-container-id-1 pre{padding: 0;}#sk-container-id-1 div.sk-toggleable {background-color: white;}#sk-container-id-1 label.sk-toggleable__label {cursor: pointer;display: block;width: 100%;margin-bottom: 0;padding: 0.3em;box-sizing: border-box;text-align: center;}#sk-container-id-1 label.sk-toggleable__label-arrow:before {content: \"▸\";float: left;margin-right: 0.25em;color: #696969;}#sk-container-id-1 label.sk-toggleable__label-arrow:hover:before {color: black;}#sk-container-id-1 div.sk-estimator:hover label.sk-toggleable__label-arrow:before {color: black;}#sk-container-id-1 div.sk-toggleable__content {max-height: 0;max-width: 0;overflow: hidden;text-align: left;background-color: #f0f8ff;}#sk-container-id-1 div.sk-toggleable__content pre {margin: 0.2em;color: black;border-radius: 0.25em;background-color: #f0f8ff;}#sk-container-id-1 input.sk-toggleable__control:checked~div.sk-toggleable__content {max-height: 200px;max-width: 100%;overflow: auto;}#sk-container-id-1 input.sk-toggleable__control:checked~label.sk-toggleable__label-arrow:before {content: \"▾\";}#sk-container-id-1 div.sk-estimator input.sk-toggleable__control:checked~label.sk-toggleable__label {background-color: #d4ebff;}#sk-container-id-1 div.sk-label input.sk-toggleable__control:checked~label.sk-toggleable__label {background-color: #d4ebff;}#sk-container-id-1 input.sk-hidden--visually {border: 0;clip: rect(1px 1px 1px 1px);clip: rect(1px, 1px, 1px, 1px);height: 1px;margin: -1px;overflow: hidden;padding: 0;position: absolute;width: 1px;}#sk-container-id-1 div.sk-estimator {font-family: monospace;background-color: #f0f8ff;border: 1px dotted black;border-radius: 0.25em;box-sizing: border-box;margin-bottom: 0.5em;}#sk-container-id-1 div.sk-estimator:hover {background-color: #d4ebff;}#sk-container-id-1 div.sk-parallel-item::after {content: \"\";width: 100%;border-bottom: 1px solid gray;flex-grow: 1;}#sk-container-id-1 div.sk-label:hover label.sk-toggleable__label {background-color: #d4ebff;}#sk-container-id-1 div.sk-serial::before {content: \"\";position: absolute;border-left: 1px solid gray;box-sizing: border-box;top: 0;bottom: 0;left: 50%;z-index: 0;}#sk-container-id-1 div.sk-serial {display: flex;flex-direction: column;align-items: center;background-color: white;padding-right: 0.2em;padding-left: 0.2em;position: relative;}#sk-container-id-1 div.sk-item {position: relative;z-index: 1;}#sk-container-id-1 div.sk-parallel {display: flex;align-items: stretch;justify-content: center;background-color: white;position: relative;}#sk-container-id-1 div.sk-item::before, #sk-container-id-1 div.sk-parallel-item::before {content: \"\";position: absolute;border-left: 1px solid gray;box-sizing: border-box;top: 0;bottom: 0;left: 50%;z-index: -1;}#sk-container-id-1 div.sk-parallel-item {display: flex;flex-direction: column;z-index: 1;position: relative;background-color: white;}#sk-container-id-1 div.sk-parallel-item:first-child::after {align-self: flex-end;width: 50%;}#sk-container-id-1 div.sk-parallel-item:last-child::after {align-self: flex-start;width: 50%;}#sk-container-id-1 div.sk-parallel-item:only-child::after {width: 0;}#sk-container-id-1 div.sk-dashed-wrapped {border: 1px dashed gray;margin: 0 0.4em 0.5em 0.4em;box-sizing: border-box;padding-bottom: 0.4em;background-color: white;}#sk-container-id-1 div.sk-label label {font-family: monospace;font-weight: bold;display: inline-block;line-height: 1.2em;}#sk-container-id-1 div.sk-label-container {text-align: center;}#sk-container-id-1 div.sk-container {/* jupyter's `normalize.less` sets `[hidden] { display: none; }` but bootstrap.min.css set `[hidden] { display: none !important; }` so we also need the `!important` here to be able to override the default hidden behavior on the sphinx rendered scikit-learn.org. See: https://github.com/scikit-learn/scikit-learn/issues/21755 */display: inline-block !important;position: relative;}#sk-container-id-1 div.sk-text-repr-fallback {display: none;}</style><div id=\"sk-container-id-1\" class=\"sk-top-container\"><div class=\"sk-text-repr-fallback\"><pre>KMeans(n_clusters=3)</pre><b>In a Jupyter environment, please rerun this cell to show the HTML representation or trust the notebook. <br />On GitHub, the HTML representation is unable to render, please try loading this page with nbviewer.org.</b></div><div class=\"sk-container\" hidden><div class=\"sk-item\"><div class=\"sk-estimator sk-toggleable\"><input class=\"sk-toggleable__control sk-hidden--visually\" id=\"sk-estimator-id-1\" type=\"checkbox\" checked><label for=\"sk-estimator-id-1\" class=\"sk-toggleable__label sk-toggleable__label-arrow\">KMeans</label><div class=\"sk-toggleable__content\"><pre>KMeans(n_clusters=3)</pre></div></div></div></div></div>"
      ],
      "text/plain": [
       "KMeans(n_clusters=3)"
      ]
     },
     "execution_count": 13,
     "metadata": {},
     "output_type": "execute_result"
    }
   ],
   "source": [
    "kmeans = KMeans(n_clusters=n_clusters)\n",
    "kmeans.fit(df)"
   ]
  },
  {
   "cell_type": "code",
   "execution_count": 14,
   "id": "9437da26",
   "metadata": {
    "ExecuteTime": {
     "end_time": "2023-06-10T05:28:29.740860Z",
     "start_time": "2023-06-10T05:28:29.710910Z"
    }
   },
   "outputs": [],
   "source": [
    "pred = kmeans.predict(df)"
   ]
  },
  {
   "cell_type": "code",
   "execution_count": 15,
   "id": "4cecfe28",
   "metadata": {
    "ExecuteTime": {
     "end_time": "2023-06-10T05:28:29.765800Z",
     "start_time": "2023-06-10T05:28:29.745840Z"
    }
   },
   "outputs": [
    {
     "data": {
      "text/plain": [
       "array([1, 1, 0, 2, 1, 2, 1, 1, 1, 1, 2, 2, 2, 1, 2, 1, 0, 0, 2, 0, 1, 1,\n",
       "       1, 1, 2, 1, 0, 2, 0, 1, 2, 0, 2, 0, 2, 2, 2, 2, 2, 2, 2, 2, 2, 2,\n",
       "       1, 2, 2, 1, 1, 2, 1, 1, 1, 1, 1, 2, 1, 2, 2, 2, 2, 2, 2, 1, 2, 1,\n",
       "       1, 2, 2, 2, 1, 1, 1, 1, 1, 1, 1, 1, 1, 1, 1, 2, 2, 2, 0, 1, 1, 2,\n",
       "       2, 1, 1, 1, 1, 1, 1, 2, 1, 0, 1, 1, 2, 1, 2, 2, 1, 1, 1, 1, 0, 2,\n",
       "       1, 1, 1, 1, 1, 1, 1, 1, 0, 1, 2, 2, 0, 2, 1, 2, 1, 1, 1, 1, 1, 2,\n",
       "       1, 1, 1, 0, 0, 1, 1, 1, 1, 2, 2, 2, 1, 1, 1, 1, 0, 1, 1, 1, 1, 1,\n",
       "       2, 2, 1, 1, 2, 1, 1, 1, 1, 1, 0, 2, 2, 2, 2, 1, 0, 0, 1, 2, 1, 1,\n",
       "       2, 0, 1, 2, 1, 1, 1, 1, 1, 0, 2, 1, 1, 0, 1, 1, 1, 1, 1, 1, 1, 1,\n",
       "       2, 1, 1, 1, 2, 1, 2, 0, 1, 1, 1, 0, 1, 1, 2, 0, 0, 1, 1])"
      ]
     },
     "execution_count": 15,
     "metadata": {},
     "output_type": "execute_result"
    }
   ],
   "source": [
    "pred"
   ]
  },
  {
   "cell_type": "code",
   "execution_count": 16,
   "id": "97aee1ad",
   "metadata": {
    "ExecuteTime": {
     "end_time": "2023-06-10T05:28:30.056132Z",
     "start_time": "2023-06-10T05:28:29.770961Z"
    },
    "scrolled": false
   },
   "outputs": [
    {
     "data": {
      "image/png": "[encoded data removed]",
      "text/plain": [
       "<Figure size 640x480 with 1 Axes>"
      ]
     },
     "metadata": {},
     "output_type": "display_data"
    }
   ],
   "source": [
    "from sklearn.decomposition import PCA\n",
    "\n",
    "# Assuming df_dum has multiple features\n",
    "pca = PCA(n_components=2)\n",
    "df_pca = pca.fit_transform(df)\n",
    "\n",
    "plt.scatter(df_pca[:, 0], df_pca[:, 1], c=pred)\n",
    "plt.xlabel('Principal Component 1')\n",
    "plt.ylabel('Principal Component 2')\n",
    "plt.title('KMeans Clustering Result (PCA)')\n",
    "plt.show()\n"
   ]
  },
  {
   "cell_type": "code",
   "execution_count": 20,
   "id": "c508805e",
   "metadata": {
    "ExecuteTime": {
     "end_time": "2023-06-10T05:28:48.892531Z",
     "start_time": "2023-06-10T05:28:48.884078Z"
    }
   },
   "outputs": [],
   "source": [
    "user_data = np.array([0, 0, 0, 0, 1, 1, 2, 58002, 53003])\n",
    "plant_pro = np.array([0,0,1,0,1,1,2,58004,53003])\n",
    "plant_data = np.array(df)"
   ]
  },
  {
   "cell_type": "code",
   "execution_count": 21,
   "id": "7fdc8fdd",
   "metadata": {
    "ExecuteTime": {
     "end_time": "2023-06-10T05:28:49.829930Z",
     "start_time": "2023-06-10T05:28:49.763954Z"
    }
   },
   "outputs": [
    {
     "name": "stderr",
     "output_type": "stream",
     "text": [
      "c:\\users\\ahneunjeong\\appdata\\local\\programs\\python\\python39\\lib\\site-packages\\sklearn\\cluster\\_kmeans.py:870: FutureWarning: The default value of `n_init` will change from 10 to 'auto' in 1.4. Set the value of `n_init` explicitly to suppress the warning\n",
      "  warnings.warn(\n"
     ]
    }
   ],
   "source": [
    "kmeans = KMeans(n_clusters=3, random_state=42)\n",
    "plant_clusters = kmeans.fit_predict(plant_data)"
   ]
  },
  {
   "cell_type": "code",
   "execution_count": 22,
   "id": "415d0721",
   "metadata": {
    "ExecuteTime": {
     "end_time": "2023-06-10T05:28:50.768765Z",
     "start_time": "2023-06-10T05:28:50.745494Z"
    }
   },
   "outputs": [],
   "source": [
    "pca = PCA(n_components=2)\n",
    "plant_features_pca = pca.fit_transform(plant_data)\n",
    "user_features = pca.transform(plant_pro.reshape(1, -1))"
   ]
  },
  {
   "cell_type": "markdown",
   "id": "79ce404b",
   "metadata": {},
   "source": [
    "코사인 유사도"
   ]
  },
  {
   "cell_type": "code",
   "execution_count": 23,
   "id": "864b6ba4",
   "metadata": {
    "ExecuteTime": {
     "end_time": "2023-06-10T05:28:51.722057Z",
     "start_time": "2023-06-10T05:28:51.707131Z"
    }
   },
   "outputs": [],
   "source": [
    "similarity_scores = cosine_similarity(user_features, plant_features_pca)"
   ]
  },
  {
   "cell_type": "code",
   "execution_count": 24,
   "id": "07db212e",
   "metadata": {
    "ExecuteTime": {
     "end_time": "2023-06-10T05:28:52.138740Z",
     "start_time": "2023-06-10T05:28:52.130700Z"
    }
   },
   "outputs": [],
   "source": [
    "cluster_indices = np.argsort(similarity_scores, axis=1)[:, ::-1]"
   ]
  },
  {
   "cell_type": "code",
   "execution_count": 25,
   "id": "a3e9fc62",
   "metadata": {
    "ExecuteTime": {
     "end_time": "2023-06-10T05:28:52.447474Z",
     "start_time": "2023-06-10T05:28:52.430820Z"
    }
   },
   "outputs": [],
   "source": [
    "top_recommendations = cluster_indices[0][:3]"
   ]
  },
  {
   "cell_type": "code",
   "execution_count": 26,
   "id": "ebdc738f",
   "metadata": {
    "ExecuteTime": {
     "end_time": "2023-06-10T05:28:52.803995Z",
     "start_time": "2023-06-10T05:28:52.788453Z"
    }
   },
   "outputs": [
    {
     "name": "stdout",
     "output_type": "stream",
     "text": [
      "Plant Index: 13251\n",
      "Similarity Score: 0.9999997401028938\n",
      "Plant Data: [    0     0     0     0     1     1     2 58004 53003]\n",
      "식물명: 피토니아 핑크스타\n",
      "\n",
      "Plant Index: 14920\n",
      "Similarity Score: 0.9995101049296968\n",
      "Plant Data: [    1     0     0     0     2     1     2 58003 53003]\n",
      "식물명: 렉스베고니아\n",
      "\n",
      "Plant Index: 19707\n",
      "Similarity Score: 0.9995101049296968\n",
      "Plant Data: [    1     0     0     0     2     1     2 58003 53003]\n",
      "식물명: 시클라멘\n",
      "\n"
     ]
    }
   ],
   "source": [
    "for recommendation in top_recommendations:\n",
    "    plant_index = df.iloc[recommendation].name\n",
    "    plant_values = df.iloc[recommendation].values\n",
    "    cntntsSj = df_o.loc[df_o['cntntsNo(컨텐츠 번호)'] == plant_index, 'cntntsSj(식물 명)'].values[0]\n",
    "\n",
    "    print(\"Plant Index:\", plant_index)\n",
    "    print(\"Similarity Score:\", similarity_scores[0][recommendation])\n",
    "    print(\"Plant Data:\", plant_values)\n",
    "    print(\"식물명:\", cntntsSj)\n",
    "    print()"
   ]
  },
  {
   "cell_type": "markdown",
   "id": "38ed1971",
   "metadata": {},
   "source": [
    "유클리드 유사도"
   ]
  },
  {
   "cell_type": "code",
   "execution_count": 27,
   "id": "616ad569",
   "metadata": {
    "ExecuteTime": {
     "end_time": "2023-06-10T05:28:53.965358Z",
     "start_time": "2023-06-10T05:28:53.951097Z"
    }
   },
   "outputs": [],
   "source": [
    "similarity_scores_e = euclidean_distances(user_features, plant_features_pca)"
   ]
  },
  {
   "cell_type": "code",
   "execution_count": 28,
   "id": "aae332ef",
   "metadata": {
    "ExecuteTime": {
     "end_time": "2023-06-10T05:28:55.097243Z",
     "start_time": "2023-06-10T05:28:55.090658Z"
    }
   },
   "outputs": [],
   "source": [
    "recommendations_indices = np.argsort(similarity_scores_e, axis=1)\n",
    "top_recommendations_e = recommendations_indices[0][:3]"
   ]
  },
  {
   "cell_type": "code",
   "execution_count": 29,
   "id": "1dff2562",
   "metadata": {
    "ExecuteTime": {
     "end_time": "2023-06-10T05:28:55.940267Z",
     "start_time": "2023-06-10T05:28:55.915899Z"
    }
   },
   "outputs": [
    {
     "name": "stdout",
     "output_type": "stream",
     "text": [
      "Plant Index: 13251\n",
      "Similarity Score: 0.9999997401028938\n",
      "Plant Data: [    0     0     0     0     1     1     2 58004 53003]\n",
      "식물명: 피토니아 핑크스타\n",
      "\n",
      "Plant Index: 13319\n",
      "Similarity Score: 0.9943470735504684\n",
      "Plant Data: [    1     0     1     0     1     1     2 58003 53003]\n",
      "식물명: 칼랑코에\n",
      "\n",
      "Plant Index: 13004\n",
      "Similarity Score: 0.9937029275079238\n",
      "Plant Data: [    1     0     0     0     1     1     2 58003 53003]\n",
      "식물명: 틸란드시아\n",
      "\n"
     ]
    }
   ],
   "source": [
    "for recommendation in top_recommendations_e:\n",
    "    plant_index = df.iloc[recommendation].name\n",
    "    plant_values = df.iloc[recommendation].values\n",
    "    cntntsSj = df_o.loc[df_o['cntntsNo(컨텐츠 번호)'] == plant_index, 'cntntsSj(식물 명)'].values[0]\n",
    "\n",
    "    print(\"Plant Index:\", plant_index)\n",
    "    print(\"Similarity Score:\", similarity_scores[0][recommendation])\n",
    "    print(\"Plant Data:\", plant_values)\n",
    "    print(\"식물명:\", cntntsSj)\n",
    "    print()"
   ]
  },
  {
   "cell_type": "markdown",
   "id": "f7d45507",
   "metadata": {},
   "source": [
    "그 외"
   ]
  },
  {
   "cell_type": "code",
   "execution_count": 51,
   "id": "6ebd909b",
   "metadata": {},
   "outputs": [],
   "source": [
    "def manhattan_similarity(a, b):\n",
    "    return np.sum(np.abs(a - b))\n",
    "\n",
    "def chebyshev_similarity(a, b):\n",
    "    return np.max(np.abs(a - b))\n",
    "\n",
    "def hamming_similarity(a, b):\n",
    "    return np.count_nonzero(a != b)"
   ]
  },
  {
   "cell_type": "markdown",
   "id": "baaaa9ee",
   "metadata": {},
   "source": [
    "맨하탄 유사도"
   ]
  },
  {
   "cell_type": "code",
   "execution_count": 55,
   "id": "fd8bd3a3",
   "metadata": {},
   "outputs": [],
   "source": [
    "manhattan_scores = []\n",
    "for i in range(len(plant_data)):\n",
    "    similarity = manhattan_similarity(user_data, plant_data[i])\n",
    "    manhattan_scores.append(similarity)"
   ]
  },
  {
   "cell_type": "code",
   "execution_count": 56,
   "id": "2dc2d430",
   "metadata": {},
   "outputs": [],
   "source": [
    "manhattan_indices = np.argsort(manhattan_scores)"
   ]
  },
  {
   "cell_type": "code",
   "execution_count": 57,
   "id": "2bd3e66a",
   "metadata": {},
   "outputs": [],
   "source": [
    "top_recommendations_manhattan = manhattan_indices[:3]"
   ]
  },
  {
   "cell_type": "code",
   "execution_count": 65,
   "id": "5f2192a3",
   "metadata": {},
   "outputs": [
    {
     "name": "stdout",
     "output_type": "stream",
     "text": [
      "Plant Index: 18581\n",
      "Plant Data: [    0     0     0     0     1     1     2 58002 53003]\n",
      "Similarity Score: 0\n",
      "식물명: 은사철나무\n",
      "\n",
      "Plant Index: 16450\n",
      "Plant Data: [    0     0     0     0     2     1     2 58002 53003]\n",
      "Similarity Score: 1\n",
      "식물명: 자주색만년초\n",
      "\n",
      "Plant Index: 13240\n",
      "Plant Data: [    0     0     1     0     1     1     2 58002 53003]\n",
      "Similarity Score: 1\n",
      "식물명: 페페로미아 오브투시폴리아\n",
      "\n"
     ]
    }
   ],
   "source": [
    " for recommendation in top_recommendations_manhattan:\n",
    "    plant_index = df.iloc[recommendation].name\n",
    "    plant_values = df.iloc[recommendation].values\n",
    "    cntntsSj = df_o.loc[df_o['cntntsNo(컨텐츠 번호)'] == plant_index, 'cntntsSj(식물 명)'].values[0]\n",
    "\n",
    "    print(\"Plant Index:\", plant_index)\n",
    "    print(\"Plant Data:\", plant_values)\n",
    "    print(\"Similarity Score:\", manhattan_scores[recommendation])\n",
    "    print(\"식물명:\", cntntsSj)\n",
    "    print()"
   ]
  },
  {
   "cell_type": "code",
   "execution_count": 75,
   "id": "dd46dd25",
   "metadata": {},
   "outputs": [],
   "source": [
    "from sklearn.metrics.pairwise import manhattan_distances\n",
    "manhattan_scores_2 = manhattan_distances(user_features, plant_features_pca)[0]"
   ]
  },
  {
   "cell_type": "code",
   "execution_count": 76,
   "id": "c47d596c",
   "metadata": {},
   "outputs": [],
   "source": [
    "manhattan_indices_2 = np.argsort(manhattan_scores_2)"
   ]
  },
  {
   "cell_type": "code",
   "execution_count": 77,
   "id": "459ae031",
   "metadata": {},
   "outputs": [],
   "source": [
    "top_recommendations_manhattan_c = manhattan_indices[:3]"
   ]
  },
  {
   "cell_type": "code",
   "execution_count": 79,
   "id": "c068289b",
   "metadata": {},
   "outputs": [
    {
     "name": "stdout",
     "output_type": "stream",
     "text": [
      "Plant Index: 18581\n",
      "Plant Data: [    0     0     0     0     1     1     2 58002 53003]\n",
      "Similarity Score: 0\n",
      "식물명: 은사철나무\n",
      "\n",
      "Plant Index: 13240\n",
      "Plant Data: [    0     0     1     0     1     1     2 58002 53003]\n",
      "Similarity Score: 0.0814044769089386\n",
      "식물명: 페페로미아 오브투시폴리아\n",
      "\n",
      "Plant Index: 13216\n",
      "Plant Data: [    0     0     1     0     1     1     2 58002 53003]\n",
      "Similarity Score: 0.0814044769089386\n",
      "식물명: 페페로미아 클루시폴리아\n",
      "\n"
     ]
    }
   ],
   "source": [
    "threshold = 1e-10\n",
    "\n",
    "for recommendation in top_recommendations_manhattan_c:\n",
    "    plant_index = df.iloc[recommendation].name\n",
    "    plant_values = df.iloc[recommendation].values\n",
    "    cntntsSj = df_o.loc[df_o['cntntsNo(컨텐츠 번호)'] == plant_index, 'cntntsSj(식물 명)'].values[0]\n",
    "    similarity_score = manhattan_scores[recommendation]\n",
    "\n",
    "    if similarity_score < threshold:\n",
    "        similarity_score = 0\n",
    "\n",
    "    print(\"Plant Index:\", plant_index)\n",
    "    print(\"Plant Data:\", plant_values)\n",
    "    print(\"Similarity Score:\", similarity_score)\n",
    "    print(\"식물명:\", cntntsSj)\n",
    "    print()"
   ]
  },
  {
   "cell_type": "markdown",
   "id": "37f43f53",
   "metadata": {},
   "source": [
    "말레하탄 유사도"
   ]
  },
  {
   "cell_type": "code",
   "execution_count": 59,
   "id": "330eb3dd",
   "metadata": {},
   "outputs": [],
   "source": [
    "chebyshev_scores = []\n",
    "for i in range(len(plant_data)):\n",
    "    similarity = chebyshev_similarity(user_data, plant_data[i])\n",
    "    chebyshev_scores.append(similarity)"
   ]
  },
  {
   "cell_type": "code",
   "execution_count": 63,
   "id": "19215f6a",
   "metadata": {},
   "outputs": [],
   "source": [
    "chebyshev_indices = np.argsort(chebyshev_scores)"
   ]
  },
  {
   "cell_type": "code",
   "execution_count": 64,
   "id": "ee8d662c",
   "metadata": {},
   "outputs": [],
   "source": [
    "top_recommendations_chebyshev = chebyshev_indices[:3]"
   ]
  },
  {
   "cell_type": "code",
   "execution_count": 66,
   "id": "d7018807",
   "metadata": {
    "scrolled": true
   },
   "outputs": [
    {
     "name": "stdout",
     "output_type": "stream",
     "text": [
      "Plant Index: 18581\n",
      "Plant Data: [    0     0     0     0     1     1     2 58002 53003]\n",
      "Similarity Score: 0\n",
      "cntntsSj: 은사철나무\n",
      "\n",
      "Plant Index: 12938\n",
      "Plant Data: [    1     1     0     0     1     1     2 58001 53003]\n",
      "Similarity Score: 1\n",
      "cntntsSj: 가울테리아\n",
      "\n",
      "Plant Index: 19712\n",
      "Plant Data: [    1     0     0     0     2     2     2 58003 53003]\n",
      "Similarity Score: 1\n",
      "cntntsSj: 심비디움\n",
      "\n"
     ]
    }
   ],
   "source": [
    "for recommendation in top_recommendations_chebyshev:\n",
    "    plant_index = df.iloc[recommendation].name\n",
    "    plant_values = df.iloc[recommendation].values\n",
    "    cntntsSj = df_o.loc[df_o['cntntsNo(컨텐츠 번호)'] == plant_index, 'cntntsSj(식물 명)'].values[0]\n",
    "\n",
    "    print(\"Plant Index:\", plant_index)\n",
    "    print(\"Plant Data:\", plant_values)\n",
    "    print(\"Similarity Score:\", chebyshev_scores[recommendation])\n",
    "    print(\"cntntsSj:\", cntntsSj)\n",
    "    print()"
   ]
  },
  {
   "cell_type": "markdown",
   "id": "39b04527",
   "metadata": {},
   "source": [
    "해밍 유사도"
   ]
  },
  {
   "cell_type": "code",
   "execution_count": 67,
   "id": "1e7ef5f3",
   "metadata": {},
   "outputs": [],
   "source": [
    "hamming_scores = []\n",
    "for i in range(len(plant_data)):\n",
    "    similarity = hamming_similarity(user_data, plant_data[i])\n",
    "    hamming_scores.append(similarity)"
   ]
  },
  {
   "cell_type": "code",
   "execution_count": 68,
   "id": "95659bb1",
   "metadata": {},
   "outputs": [],
   "source": [
    "hamming_indices = np.argsort(hamming_scores)"
   ]
  },
  {
   "cell_type": "code",
   "execution_count": 69,
   "id": "917280e4",
   "metadata": {},
   "outputs": [],
   "source": [
    "top_recommendations_hamming = hamming_indices[:3]"
   ]
  },
  {
   "cell_type": "code",
   "execution_count": 70,
   "id": "ed04b153",
   "metadata": {},
   "outputs": [
    {
     "name": "stdout",
     "output_type": "stream",
     "text": [
      "Plant Index: 18581\n",
      "Plant Data: [    0     0     0     0     1     1     2 58002 53003]\n",
      "Similarity Score: 0\n",
      "cntntsSj: 은사철나무\n",
      "\n",
      "Plant Index: 13240\n",
      "Plant Data: [    0     0     1     0     1     1     2 58002 53003]\n",
      "Similarity Score: 1\n",
      "cntntsSj: 페페로미아 오브투시폴리아\n",
      "\n",
      "Plant Index: 13197\n",
      "Plant Data: [    0     0     0     0     1     1     2 58003 53003]\n",
      "Similarity Score: 1\n",
      "cntntsSj: 피토니아 화이트스타\n",
      "\n"
     ]
    }
   ],
   "source": [
    "for recommendation in top_recommendations_hamming:\n",
    "    plant_index = df.iloc[recommendation].name\n",
    "    plant_values = df.iloc[recommendation].values\n",
    "    cntntsSj = df_o.loc[df_o['cntntsNo(컨텐츠 번호)'] == plant_index, 'cntntsSj(식물 명)'].values[0]\n",
    "\n",
    "    print(\"Plant Index:\", plant_index)\n",
    "    print(\"Plant Data:\", plant_values)\n",
    "    print(\"Similarity Score:\", hamming_scores[recommendation])\n",
    "    print(\"cntntsSj:\", cntntsSj)\n",
    "    print()"
   ]
  }
 ],
 "metadata": {
  "kernelspec": {
   "display_name": "Python 3 (ipykernel)",
   "language": "python",
   "name": "python3"
  },
  "language_info": {
   "codemirror_mode": {
    "name": "ipython",
    "version": 3
   },
   "file_extension": ".py",
   "mimetype": "text/x-python",
   "name": "python",
   "nbconvert_exporter": "python",
   "pygments_lexer": "ipython3",
   "version": "3.9.0"
  },
  "toc": {
   "base_numbering": 1,
   "nav_menu": {},
   "number_sections": true,
   "sideBar": true,
   "skip_h1_title": false,
   "title_cell": "Table of Contents",
   "title_sidebar": "Contents",
   "toc_cell": false,
   "toc_position": {},
   "toc_section_display": true,
   "toc_window_display": false
  }
 },
 "nbformat": 4,
 "nbformat_minor": 5
}
