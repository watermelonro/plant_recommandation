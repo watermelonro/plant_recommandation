{
 "cells": [
  {
   "cell_type": "code",
   "execution_count": 1,
   "id": "4a5699ce",
   "metadata": {
    "ExecuteTime": {
     "end_time": "2023-06-08T08:55:59.939764Z",
     "start_time": "2023-06-08T08:55:52.113011Z"
    }
   },
   "outputs": [],
   "source": [
    "import pandas as pd\n",
    "from sklearn.cluster import KMeans\n",
    "import matplotlib.pyplot as plt\n",
    "import numpy as np\n",
    "import seaborn as sns\n",
    "from sklearn.metrics.pairwise import euclidean_distances, cosine_similarity"
   ]
  },
  {
   "cell_type": "code",
   "execution_count": 2,
   "id": "6aca9f0b",
   "metadata": {
    "ExecuteTime": {
     "end_time": "2023-06-08T08:55:59.980485Z",
     "start_time": "2023-06-08T08:55:59.946341Z"
    }
   },
   "outputs": [],
   "source": [
    "df_o = pd.read_csv(\"./data/식물_전처리 - merged_df(4차)_2.csv\")"
   ]
  },
  {
   "cell_type": "code",
   "execution_count": 3,
   "id": "218b5167",
   "metadata": {
    "ExecuteTime": {
     "end_time": "2023-06-08T08:56:00.016258Z",
     "start_time": "2023-06-08T08:55:59.983459Z"
    },
    "scrolled": true
   },
   "outputs": [
    {
     "data": {
      "text/html": [
       "<div>\n",
       "<style scoped>\n",
       "    .dataframe tbody tr th:only-of-type {\n",
       "        vertical-align: middle;\n",
       "    }\n",
       "\n",
       "    .dataframe tbody tr th {\n",
       "        vertical-align: top;\n",
       "    }\n",
       "\n",
       "    .dataframe thead th {\n",
       "        text-align: right;\n",
       "    }\n",
       "</style>\n",
       "<table border=\"1\" class=\"dataframe\">\n",
       "  <thead>\n",
       "    <tr style=\"text-align: right;\">\n",
       "      <th></th>\n",
       "      <th>cntntsNo(컨텐츠 번호)</th>\n",
       "      <th>cntntsSj(식물 명)</th>\n",
       "      <th>clCodeNm(꽃 여부)</th>\n",
       "      <th>열매여부</th>\n",
       "      <th>다육</th>\n",
       "      <th>덩굴</th>\n",
       "      <th>growthAraInfo (성장 넓이 정보)</th>\n",
       "      <th>growthHgInfo (성장 높이 정보)</th>\n",
       "      <th>lighttdemanddoCodeNm (광요구도 코드)</th>\n",
       "      <th>managedemanddoCode (관리요구도 코드)</th>\n",
       "      <th>watercycleSummerCode (물주기 여름 코드)</th>\n",
       "    </tr>\n",
       "  </thead>\n",
       "  <tbody>\n",
       "    <tr>\n",
       "      <th>0</th>\n",
       "      <td>12938</td>\n",
       "      <td>가울테리아</td>\n",
       "      <td>1</td>\n",
       "      <td>1</td>\n",
       "      <td>0</td>\n",
       "      <td>0</td>\n",
       "      <td>1</td>\n",
       "      <td>1</td>\n",
       "      <td>2</td>\n",
       "      <td>58001</td>\n",
       "      <td>53003</td>\n",
       "    </tr>\n",
       "    <tr>\n",
       "      <th>1</th>\n",
       "      <td>12954</td>\n",
       "      <td>개운죽</td>\n",
       "      <td>0</td>\n",
       "      <td>0</td>\n",
       "      <td>0</td>\n",
       "      <td>0</td>\n",
       "      <td>2</td>\n",
       "      <td>2</td>\n",
       "      <td>1</td>\n",
       "      <td>58001</td>\n",
       "      <td>53002</td>\n",
       "    </tr>\n",
       "    <tr>\n",
       "      <th>2</th>\n",
       "      <td>12955</td>\n",
       "      <td>골드크레스트 '윌마'</td>\n",
       "      <td>0</td>\n",
       "      <td>0</td>\n",
       "      <td>0</td>\n",
       "      <td>0</td>\n",
       "      <td>2</td>\n",
       "      <td>3</td>\n",
       "      <td>4</td>\n",
       "      <td>58002</td>\n",
       "      <td>53003</td>\n",
       "    </tr>\n",
       "    <tr>\n",
       "      <th>3</th>\n",
       "      <td>12957</td>\n",
       "      <td>공작야자</td>\n",
       "      <td>0</td>\n",
       "      <td>0</td>\n",
       "      <td>0</td>\n",
       "      <td>0</td>\n",
       "      <td>3</td>\n",
       "      <td>3</td>\n",
       "      <td>2</td>\n",
       "      <td>58003</td>\n",
       "      <td>53003</td>\n",
       "    </tr>\n",
       "    <tr>\n",
       "      <th>4</th>\n",
       "      <td>12962</td>\n",
       "      <td>관엽베고니아</td>\n",
       "      <td>1</td>\n",
       "      <td>0</td>\n",
       "      <td>0</td>\n",
       "      <td>0</td>\n",
       "      <td>2</td>\n",
       "      <td>1</td>\n",
       "      <td>2</td>\n",
       "      <td>58002</td>\n",
       "      <td>53003</td>\n",
       "    </tr>\n",
       "    <tr>\n",
       "      <th>...</th>\n",
       "      <td>...</td>\n",
       "      <td>...</td>\n",
       "      <td>...</td>\n",
       "      <td>...</td>\n",
       "      <td>...</td>\n",
       "      <td>...</td>\n",
       "      <td>...</td>\n",
       "      <td>...</td>\n",
       "      <td>...</td>\n",
       "      <td>...</td>\n",
       "      <td>...</td>\n",
       "    </tr>\n",
       "    <tr>\n",
       "      <th>212</th>\n",
       "      <td>12932</td>\n",
       "      <td>황금죽</td>\n",
       "      <td>0</td>\n",
       "      <td>0</td>\n",
       "      <td>0</td>\n",
       "      <td>0</td>\n",
       "      <td>2</td>\n",
       "      <td>3</td>\n",
       "      <td>2</td>\n",
       "      <td>58003</td>\n",
       "      <td>53003</td>\n",
       "    </tr>\n",
       "    <tr>\n",
       "      <th>213</th>\n",
       "      <td>12956</td>\n",
       "      <td>후피향나무</td>\n",
       "      <td>0</td>\n",
       "      <td>0</td>\n",
       "      <td>0</td>\n",
       "      <td>0</td>\n",
       "      <td>2</td>\n",
       "      <td>3</td>\n",
       "      <td>4</td>\n",
       "      <td>58001</td>\n",
       "      <td>53003</td>\n",
       "    </tr>\n",
       "    <tr>\n",
       "      <th>214</th>\n",
       "      <td>12920</td>\n",
       "      <td>흰꽃나도사프란</td>\n",
       "      <td>1</td>\n",
       "      <td>0</td>\n",
       "      <td>0</td>\n",
       "      <td>0</td>\n",
       "      <td>2</td>\n",
       "      <td>1</td>\n",
       "      <td>4</td>\n",
       "      <td>58001</td>\n",
       "      <td>53003</td>\n",
       "    </tr>\n",
       "    <tr>\n",
       "      <th>215</th>\n",
       "      <td>12919</td>\n",
       "      <td>흰줄무늬달개비(트라데스칸티아)</td>\n",
       "      <td>0</td>\n",
       "      <td>0</td>\n",
       "      <td>0</td>\n",
       "      <td>1</td>\n",
       "      <td>2</td>\n",
       "      <td>1</td>\n",
       "      <td>2</td>\n",
       "      <td>58002</td>\n",
       "      <td>53003</td>\n",
       "    </tr>\n",
       "    <tr>\n",
       "      <th>216</th>\n",
       "      <td>12901</td>\n",
       "      <td>히포에스테스</td>\n",
       "      <td>0</td>\n",
       "      <td>0</td>\n",
       "      <td>0</td>\n",
       "      <td>0</td>\n",
       "      <td>2</td>\n",
       "      <td>1</td>\n",
       "      <td>2</td>\n",
       "      <td>58002</td>\n",
       "      <td>53002</td>\n",
       "    </tr>\n",
       "  </tbody>\n",
       "</table>\n",
       "<p>217 rows × 11 columns</p>\n",
       "</div>"
      ],
      "text/plain": [
       "     cntntsNo(컨텐츠 번호)    cntntsSj(식물 명)  clCodeNm(꽃 여부)  열매여부  다육  덩굴  \\\n",
       "0               12938             가울테리아               1     1   0   0   \n",
       "1               12954               개운죽               0     0   0   0   \n",
       "2               12955       골드크레스트 '윌마'               0     0   0   0   \n",
       "3               12957              공작야자               0     0   0   0   \n",
       "4               12962            관엽베고니아               1     0   0   0   \n",
       "..                ...               ...             ...   ...  ..  ..   \n",
       "212             12932               황금죽               0     0   0   0   \n",
       "213             12956             후피향나무               0     0   0   0   \n",
       "214             12920           흰꽃나도사프란               1     0   0   0   \n",
       "215             12919  흰줄무늬달개비(트라데스칸티아)               0     0   0   1   \n",
       "216             12901            히포에스테스               0     0   0   0   \n",
       "\n",
       "     growthAraInfo (성장 넓이 정보)  growthHgInfo (성장 높이 정보)  \\\n",
       "0                           1                        1   \n",
       "1                           2                        2   \n",
       "2                           2                        3   \n",
       "3                           3                        3   \n",
       "4                           2                        1   \n",
       "..                        ...                      ...   \n",
       "212                         2                        3   \n",
       "213                         2                        3   \n",
       "214                         2                        1   \n",
       "215                         2                        1   \n",
       "216                         2                        1   \n",
       "\n",
       "     lighttdemanddoCodeNm (광요구도 코드)  managedemanddoCode (관리요구도 코드)  \\\n",
       "0                                 2                          58001   \n",
       "1                                 1                          58001   \n",
       "2                                 4                          58002   \n",
       "3                                 2                          58003   \n",
       "4                                 2                          58002   \n",
       "..                              ...                            ...   \n",
       "212                               2                          58003   \n",
       "213                               4                          58001   \n",
       "214                               4                          58001   \n",
       "215                               2                          58002   \n",
       "216                               2                          58002   \n",
       "\n",
       "     watercycleSummerCode (물주기 여름 코드)  \n",
       "0                               53003  \n",
       "1                               53002  \n",
       "2                               53003  \n",
       "3                               53003  \n",
       "4                               53003  \n",
       "..                                ...  \n",
       "212                             53003  \n",
       "213                             53003  \n",
       "214                             53003  \n",
       "215                             53003  \n",
       "216                             53002  \n",
       "\n",
       "[217 rows x 11 columns]"
      ]
     },
     "execution_count": 3,
     "metadata": {},
     "output_type": "execute_result"
    }
   ],
   "source": [
    "df_o"
   ]
  },
  {
   "cell_type": "code",
   "execution_count": 4,
   "id": "15deda97",
   "metadata": {
    "ExecuteTime": {
     "end_time": "2023-06-08T08:56:00.031916Z",
     "start_time": "2023-06-08T08:56:00.017285Z"
    }
   },
   "outputs": [],
   "source": [
    "df = df_o.drop(columns='cntntsSj(식물 명)')"
   ]
  },
  {
   "cell_type": "code",
   "execution_count": 5,
   "id": "1b3a0dea",
   "metadata": {
    "ExecuteTime": {
     "end_time": "2023-06-08T08:56:00.065079Z",
     "start_time": "2023-06-08T08:56:00.032791Z"
    }
   },
   "outputs": [
    {
     "data": {
      "text/html": [
       "<div>\n",
       "<style scoped>\n",
       "    .dataframe tbody tr th:only-of-type {\n",
       "        vertical-align: middle;\n",
       "    }\n",
       "\n",
       "    .dataframe tbody tr th {\n",
       "        vertical-align: top;\n",
       "    }\n",
       "\n",
       "    .dataframe thead th {\n",
       "        text-align: right;\n",
       "    }\n",
       "</style>\n",
       "<table border=\"1\" class=\"dataframe\">\n",
       "  <thead>\n",
       "    <tr style=\"text-align: right;\">\n",
       "      <th></th>\n",
       "      <th>cntntsNo</th>\n",
       "      <th>clCodeNm</th>\n",
       "      <th>fruit</th>\n",
       "      <th>succulent</th>\n",
       "      <th>vine</th>\n",
       "      <th>growthAra</th>\n",
       "      <th>growthHg</th>\n",
       "      <th>lightdemand</th>\n",
       "      <th>manage</th>\n",
       "      <th>watercycle</th>\n",
       "    </tr>\n",
       "  </thead>\n",
       "  <tbody>\n",
       "    <tr>\n",
       "      <th>0</th>\n",
       "      <td>12938</td>\n",
       "      <td>1</td>\n",
       "      <td>1</td>\n",
       "      <td>0</td>\n",
       "      <td>0</td>\n",
       "      <td>1</td>\n",
       "      <td>1</td>\n",
       "      <td>2</td>\n",
       "      <td>58001</td>\n",
       "      <td>53003</td>\n",
       "    </tr>\n",
       "    <tr>\n",
       "      <th>1</th>\n",
       "      <td>12954</td>\n",
       "      <td>0</td>\n",
       "      <td>0</td>\n",
       "      <td>0</td>\n",
       "      <td>0</td>\n",
       "      <td>2</td>\n",
       "      <td>2</td>\n",
       "      <td>1</td>\n",
       "      <td>58001</td>\n",
       "      <td>53002</td>\n",
       "    </tr>\n",
       "    <tr>\n",
       "      <th>2</th>\n",
       "      <td>12955</td>\n",
       "      <td>0</td>\n",
       "      <td>0</td>\n",
       "      <td>0</td>\n",
       "      <td>0</td>\n",
       "      <td>2</td>\n",
       "      <td>3</td>\n",
       "      <td>4</td>\n",
       "      <td>58002</td>\n",
       "      <td>53003</td>\n",
       "    </tr>\n",
       "    <tr>\n",
       "      <th>3</th>\n",
       "      <td>12957</td>\n",
       "      <td>0</td>\n",
       "      <td>0</td>\n",
       "      <td>0</td>\n",
       "      <td>0</td>\n",
       "      <td>3</td>\n",
       "      <td>3</td>\n",
       "      <td>2</td>\n",
       "      <td>58003</td>\n",
       "      <td>53003</td>\n",
       "    </tr>\n",
       "    <tr>\n",
       "      <th>4</th>\n",
       "      <td>12962</td>\n",
       "      <td>1</td>\n",
       "      <td>0</td>\n",
       "      <td>0</td>\n",
       "      <td>0</td>\n",
       "      <td>2</td>\n",
       "      <td>1</td>\n",
       "      <td>2</td>\n",
       "      <td>58002</td>\n",
       "      <td>53003</td>\n",
       "    </tr>\n",
       "  </tbody>\n",
       "</table>\n",
       "</div>"
      ],
      "text/plain": [
       "   cntntsNo  clCodeNm  fruit  succulent  vine  growthAra  growthHg  \\\n",
       "0     12938         1      1          0     0          1         1   \n",
       "1     12954         0      0          0     0          2         2   \n",
       "2     12955         0      0          0     0          2         3   \n",
       "3     12957         0      0          0     0          3         3   \n",
       "4     12962         1      0          0     0          2         1   \n",
       "\n",
       "   lightdemand  manage  watercycle  \n",
       "0            2   58001       53003  \n",
       "1            1   58001       53002  \n",
       "2            4   58002       53003  \n",
       "3            2   58003       53003  \n",
       "4            2   58002       53003  "
      ]
     },
     "execution_count": 5,
     "metadata": {},
     "output_type": "execute_result"
    }
   ],
   "source": [
    "new_column_names = [\"cntntsNo\", \"clCodeNm\", \"fruit\", \"succulent\", \"vine\",\\\n",
    "                    \"growthAra\", \"growthHg\", \"lightdemand\", \"manage\", \"watercycle\"]\n",
    "df.columns = new_column_names\n",
    "df.head()"
   ]
  },
  {
   "cell_type": "code",
   "execution_count": 6,
   "id": "5606bcc4",
   "metadata": {
    "ExecuteTime": {
     "end_time": "2023-06-08T08:56:00.073232Z",
     "start_time": "2023-06-08T08:56:00.065079Z"
    }
   },
   "outputs": [
    {
     "data": {
      "text/html": [
       "<div>\n",
       "<style scoped>\n",
       "    .dataframe tbody tr th:only-of-type {\n",
       "        vertical-align: middle;\n",
       "    }\n",
       "\n",
       "    .dataframe tbody tr th {\n",
       "        vertical-align: top;\n",
       "    }\n",
       "\n",
       "    .dataframe thead th {\n",
       "        text-align: right;\n",
       "    }\n",
       "</style>\n",
       "<table border=\"1\" class=\"dataframe\">\n",
       "  <thead>\n",
       "    <tr style=\"text-align: right;\">\n",
       "      <th></th>\n",
       "      <th>clCodeNm</th>\n",
       "      <th>fruit</th>\n",
       "      <th>succulent</th>\n",
       "      <th>vine</th>\n",
       "      <th>growthAra</th>\n",
       "      <th>growthHg</th>\n",
       "      <th>lightdemand</th>\n",
       "      <th>manage</th>\n",
       "      <th>watercycle</th>\n",
       "    </tr>\n",
       "    <tr>\n",
       "      <th>cntntsNo</th>\n",
       "      <th></th>\n",
       "      <th></th>\n",
       "      <th></th>\n",
       "      <th></th>\n",
       "      <th></th>\n",
       "      <th></th>\n",
       "      <th></th>\n",
       "      <th></th>\n",
       "      <th></th>\n",
       "    </tr>\n",
       "  </thead>\n",
       "  <tbody>\n",
       "    <tr>\n",
       "      <th>12938</th>\n",
       "      <td>1</td>\n",
       "      <td>1</td>\n",
       "      <td>0</td>\n",
       "      <td>0</td>\n",
       "      <td>1</td>\n",
       "      <td>1</td>\n",
       "      <td>2</td>\n",
       "      <td>58001</td>\n",
       "      <td>53003</td>\n",
       "    </tr>\n",
       "    <tr>\n",
       "      <th>12954</th>\n",
       "      <td>0</td>\n",
       "      <td>0</td>\n",
       "      <td>0</td>\n",
       "      <td>0</td>\n",
       "      <td>2</td>\n",
       "      <td>2</td>\n",
       "      <td>1</td>\n",
       "      <td>58001</td>\n",
       "      <td>53002</td>\n",
       "    </tr>\n",
       "    <tr>\n",
       "      <th>12955</th>\n",
       "      <td>0</td>\n",
       "      <td>0</td>\n",
       "      <td>0</td>\n",
       "      <td>0</td>\n",
       "      <td>2</td>\n",
       "      <td>3</td>\n",
       "      <td>4</td>\n",
       "      <td>58002</td>\n",
       "      <td>53003</td>\n",
       "    </tr>\n",
       "    <tr>\n",
       "      <th>12957</th>\n",
       "      <td>0</td>\n",
       "      <td>0</td>\n",
       "      <td>0</td>\n",
       "      <td>0</td>\n",
       "      <td>3</td>\n",
       "      <td>3</td>\n",
       "      <td>2</td>\n",
       "      <td>58003</td>\n",
       "      <td>53003</td>\n",
       "    </tr>\n",
       "    <tr>\n",
       "      <th>12962</th>\n",
       "      <td>1</td>\n",
       "      <td>0</td>\n",
       "      <td>0</td>\n",
       "      <td>0</td>\n",
       "      <td>2</td>\n",
       "      <td>1</td>\n",
       "      <td>2</td>\n",
       "      <td>58002</td>\n",
       "      <td>53003</td>\n",
       "    </tr>\n",
       "    <tr>\n",
       "      <th>...</th>\n",
       "      <td>...</td>\n",
       "      <td>...</td>\n",
       "      <td>...</td>\n",
       "      <td>...</td>\n",
       "      <td>...</td>\n",
       "      <td>...</td>\n",
       "      <td>...</td>\n",
       "      <td>...</td>\n",
       "      <td>...</td>\n",
       "    </tr>\n",
       "    <tr>\n",
       "      <th>12932</th>\n",
       "      <td>0</td>\n",
       "      <td>0</td>\n",
       "      <td>0</td>\n",
       "      <td>0</td>\n",
       "      <td>2</td>\n",
       "      <td>3</td>\n",
       "      <td>2</td>\n",
       "      <td>58003</td>\n",
       "      <td>53003</td>\n",
       "    </tr>\n",
       "    <tr>\n",
       "      <th>12956</th>\n",
       "      <td>0</td>\n",
       "      <td>0</td>\n",
       "      <td>0</td>\n",
       "      <td>0</td>\n",
       "      <td>2</td>\n",
       "      <td>3</td>\n",
       "      <td>4</td>\n",
       "      <td>58001</td>\n",
       "      <td>53003</td>\n",
       "    </tr>\n",
       "    <tr>\n",
       "      <th>12920</th>\n",
       "      <td>1</td>\n",
       "      <td>0</td>\n",
       "      <td>0</td>\n",
       "      <td>0</td>\n",
       "      <td>2</td>\n",
       "      <td>1</td>\n",
       "      <td>4</td>\n",
       "      <td>58001</td>\n",
       "      <td>53003</td>\n",
       "    </tr>\n",
       "    <tr>\n",
       "      <th>12919</th>\n",
       "      <td>0</td>\n",
       "      <td>0</td>\n",
       "      <td>0</td>\n",
       "      <td>1</td>\n",
       "      <td>2</td>\n",
       "      <td>1</td>\n",
       "      <td>2</td>\n",
       "      <td>58002</td>\n",
       "      <td>53003</td>\n",
       "    </tr>\n",
       "    <tr>\n",
       "      <th>12901</th>\n",
       "      <td>0</td>\n",
       "      <td>0</td>\n",
       "      <td>0</td>\n",
       "      <td>0</td>\n",
       "      <td>2</td>\n",
       "      <td>1</td>\n",
       "      <td>2</td>\n",
       "      <td>58002</td>\n",
       "      <td>53002</td>\n",
       "    </tr>\n",
       "  </tbody>\n",
       "</table>\n",
       "<p>217 rows × 9 columns</p>\n",
       "</div>"
      ],
      "text/plain": [
       "          clCodeNm  fruit  succulent  vine  growthAra  growthHg  lightdemand  \\\n",
       "cntntsNo                                                                       \n",
       "12938            1      1          0     0          1         1            2   \n",
       "12954            0      0          0     0          2         2            1   \n",
       "12955            0      0          0     0          2         3            4   \n",
       "12957            0      0          0     0          3         3            2   \n",
       "12962            1      0          0     0          2         1            2   \n",
       "...            ...    ...        ...   ...        ...       ...          ...   \n",
       "12932            0      0          0     0          2         3            2   \n",
       "12956            0      0          0     0          2         3            4   \n",
       "12920            1      0          0     0          2         1            4   \n",
       "12919            0      0          0     1          2         1            2   \n",
       "12901            0      0          0     0          2         1            2   \n",
       "\n",
       "          manage  watercycle  \n",
       "cntntsNo                      \n",
       "12938      58001       53003  \n",
       "12954      58001       53002  \n",
       "12955      58002       53003  \n",
       "12957      58003       53003  \n",
       "12962      58002       53003  \n",
       "...          ...         ...  \n",
       "12932      58003       53003  \n",
       "12956      58001       53003  \n",
       "12920      58001       53003  \n",
       "12919      58002       53003  \n",
       "12901      58002       53002  \n",
       "\n",
       "[217 rows x 9 columns]"
      ]
     },
     "execution_count": 6,
     "metadata": {},
     "output_type": "execute_result"
    }
   ],
   "source": [
    "df = df.set_index('cntntsNo')\n",
    "df"
   ]
  },
  {
   "cell_type": "code",
   "execution_count": 7,
   "id": "5321477b",
   "metadata": {
    "ExecuteTime": {
     "end_time": "2023-06-08T08:56:00.689527Z",
     "start_time": "2023-06-08T08:56:00.076104Z"
    }
   },
   "outputs": [],
   "source": [
    "inertia_list = []\n",
    "for i in range(2,11):\n",
    "    km = KMeans(n_clusters=i)\n",
    "    km.fit(df)\n",
    "    inertia_list.append(km.inertia_)"
   ]
  },
  {
   "cell_type": "code",
   "execution_count": 8,
   "id": "973ee1e2",
   "metadata": {
    "ExecuteTime": {
     "end_time": "2023-06-08T08:56:00.994995Z",
     "start_time": "2023-06-08T08:56:00.691916Z"
    },
    "scrolled": false
   },
   "outputs": [
    {
     "data": {
      "text/plain": [
       "<AxesSubplot:>"
      ]
     },
     "execution_count": 8,
     "metadata": {},
     "output_type": "execute_result"
    },
    {
     "data": {
      "image/png": "[encoded data removed]",
      "text/plain": [
       "<Figure size 432x288 with 1 Axes>"
      ]
     },
     "metadata": {
      "needs_background": "light"
     },
     "output_type": "display_data"
    }
   ],
   "source": [
    "sns.lineplot(x=range(2,11),y=inertia_list)\n",
    "# 엘보 스코어가 안 보임 "
   ]
  },
  {
   "cell_type": "code",
   "execution_count": 9,
   "id": "6ad5ae1c",
   "metadata": {
    "ExecuteTime": {
     "end_time": "2023-06-08T08:56:01.003593Z",
     "start_time": "2023-06-08T08:56:00.995501Z"
    }
   },
   "outputs": [],
   "source": [
    "from sklearn.metrics import silhouette_score"
   ]
  },
  {
   "cell_type": "code",
   "execution_count": 10,
   "id": "96b7d74f",
   "metadata": {
    "ExecuteTime": {
     "end_time": "2023-06-08T08:56:01.596763Z",
     "start_time": "2023-06-08T08:56:01.010046Z"
    }
   },
   "outputs": [],
   "source": [
    "score = []\n",
    "for i in range(2,11):\n",
    "    km = KMeans(n_clusters=i,random_state=10)\n",
    "    km.fit(df)\n",
    "    pred=km.predict(df)\n",
    "    score.append(silhouette_score(df,pred))"
   ]
  },
  {
   "cell_type": "code",
   "execution_count": 11,
   "id": "a95fd786",
   "metadata": {
    "ExecuteTime": {
     "end_time": "2023-06-08T08:56:01.861340Z",
     "start_time": "2023-06-08T08:56:01.599851Z"
    }
   },
   "outputs": [
    {
     "data": {
      "text/plain": [
       "<AxesSubplot:>"
      ]
     },
     "execution_count": 11,
     "metadata": {},
     "output_type": "execute_result"
    },
    {
     "data": {
      "image/png": "[encoded data removed]",
      "text/plain": [
       "<Figure size 432x288 with 1 Axes>"
      ]
     },
     "metadata": {
      "needs_background": "light"
     },
     "output_type": "display_data"
    }
   ],
   "source": [
    "sns.lineplot(x=range(2,11),y=score)"
   ]
  },
  {
   "cell_type": "code",
   "execution_count": 12,
   "id": "7fd3b435",
   "metadata": {
    "ExecuteTime": {
     "end_time": "2023-06-08T08:56:01.885981Z",
     "start_time": "2023-06-08T08:56:01.866196Z"
    }
   },
   "outputs": [],
   "source": [
    "n_clusters = 3"
   ]
  },
  {
   "cell_type": "code",
   "execution_count": 13,
   "id": "de3f72a1",
   "metadata": {
    "ExecuteTime": {
     "end_time": "2023-06-08T08:56:01.971854Z",
     "start_time": "2023-06-08T08:56:01.889464Z"
    }
   },
   "outputs": [
    {
     "data": {
      "text/plain": [
       "KMeans(n_clusters=3)"
      ]
     },
     "execution_count": 13,
     "metadata": {},
     "output_type": "execute_result"
    }
   ],
   "source": [
    "kmeans = KMeans(n_clusters=n_clusters)\n",
    "kmeans.fit(df)"
   ]
  },
  {
   "cell_type": "code",
   "execution_count": 14,
   "id": "9437da26",
   "metadata": {
    "ExecuteTime": {
     "end_time": "2023-06-08T08:56:01.990513Z",
     "start_time": "2023-06-08T08:56:01.974359Z"
    }
   },
   "outputs": [],
   "source": [
    "pred = kmeans.predict(df)"
   ]
  },
  {
   "cell_type": "code",
   "execution_count": 15,
   "id": "4cecfe28",
   "metadata": {
    "ExecuteTime": {
     "end_time": "2023-06-08T08:56:02.008322Z",
     "start_time": "2023-06-08T08:56:01.990513Z"
    }
   },
   "outputs": [
    {
     "data": {
      "text/plain": [
       "array([0, 1, 2, 1, 0, 1, 0, 0, 0, 0, 1, 1, 1, 1, 1, 0, 2, 2, 1, 2, 0, 0,\n",
       "       0, 0, 1, 0, 2, 1, 2, 0, 1, 2, 1, 2, 1, 1, 1, 1, 1, 1, 1, 1, 1, 1,\n",
       "       0, 1, 1, 0, 0, 1, 0, 0, 0, 1, 0, 1, 0, 1, 1, 1, 1, 1, 1, 0, 1, 0,\n",
       "       0, 1, 1, 1, 0, 0, 0, 0, 0, 0, 0, 0, 0, 0, 0, 1, 1, 1, 2, 0, 0, 1,\n",
       "       1, 0, 0, 0, 1, 0, 0, 1, 0, 2, 0, 0, 1, 0, 1, 1, 0, 0, 0, 0, 2, 1,\n",
       "       0, 0, 0, 0, 0, 0, 0, 0, 2, 0, 1, 1, 2, 1, 0, 1, 0, 0, 0, 0, 0, 1,\n",
       "       0, 0, 0, 2, 2, 1, 0, 0, 0, 1, 1, 1, 0, 0, 0, 0, 2, 0, 0, 0, 0, 0,\n",
       "       1, 1, 0, 0, 1, 0, 0, 0, 0, 0, 2, 1, 1, 1, 1, 0, 2, 2, 0, 1, 0, 0,\n",
       "       1, 2, 0, 1, 0, 0, 0, 0, 0, 2, 1, 0, 0, 2, 0, 0, 0, 0, 0, 0, 0, 0,\n",
       "       1, 0, 0, 0, 1, 0, 1, 2, 0, 0, 0, 2, 0, 0, 1, 2, 2, 0, 0])"
      ]
     },
     "execution_count": 15,
     "metadata": {},
     "output_type": "execute_result"
    }
   ],
   "source": [
    "pred"
   ]
  },
  {
   "cell_type": "code",
   "execution_count": 16,
   "id": "97aee1ad",
   "metadata": {
    "ExecuteTime": {
     "end_time": "2023-06-08T08:56:02.215024Z",
     "start_time": "2023-06-08T08:56:02.008322Z"
    },
    "scrolled": false
   },
   "outputs": [
    {
     "data": {
      "image/png": "[encoded data removed]",
      "text/plain": [
       "<Figure size 432x288 with 1 Axes>"
      ]
     },
     "metadata": {
      "needs_background": "light"
     },
     "output_type": "display_data"
    }
   ],
   "source": [
    "from sklearn.decomposition import PCA\n",
    "\n",
    "# Assuming df_dum has multiple features\n",
    "pca = PCA(n_components=2)\n",
    "df_pca = pca.fit_transform(df)\n",
    "\n",
    "plt.scatter(df_pca[:, 0], df_pca[:, 1], c=pred)\n",
    "plt.xlabel('Principal Component 1')\n",
    "plt.ylabel('Principal Component 2')\n",
    "plt.title('KMeans Clustering Result (PCA)')\n",
    "plt.show()\n"
   ]
  },
  {
   "cell_type": "code",
   "execution_count": 17,
   "id": "c508805e",
   "metadata": {
    "ExecuteTime": {
     "end_time": "2023-06-08T08:56:02.223473Z",
     "start_time": "2023-06-08T08:56:02.215940Z"
    }
   },
   "outputs": [],
   "source": [
    "mlPro_data = [0,0,0,0,2,1,2,58003,53002]\n",
    "user_data = np.array(mlPro_data)\n",
    "plant_data = np.array(df)"
   ]
  },
  {
   "cell_type": "code",
   "execution_count": 18,
   "id": "7fdc8fdd",
   "metadata": {},
   "outputs": [],
   "source": [
    "kmeans = KMeans(n_clusters=3, random_state=42)\n",
    "plant_clusters = kmeans.fit_predict(plant_data)"
   ]
  },
  {
   "cell_type": "code",
   "execution_count": 19,
   "id": "415d0721",
   "metadata": {},
   "outputs": [],
   "source": [
    "pca = PCA(n_components=2)\n",
    "plant_features_pca = pca.fit_transform(plant_data)\n",
    "user_features = pca.transform(user_data.reshape(1, -1))"
   ]
  },
  {
   "cell_type": "markdown",
   "id": "38ed1971",
   "metadata": {},
   "source": [
    "유클리드 유사도"
   ]
  },
  {
   "cell_type": "code",
   "execution_count": 23,
   "id": "616ad569",
   "metadata": {},
   "outputs": [],
   "source": [
    "similarity_scores_e = euclidean_distances(user_features, plant_features_pca)\n",
    "similarities_clustered = 1 / (1 + similarity_scores_e)"
   ]
  },
  {
   "cell_type": "code",
   "execution_count": 26,
   "id": "aae332ef",
   "metadata": {},
   "outputs": [],
   "source": [
    "recommendations_indices = np.argsort(-similarities_clustered, axis=1)\n",
    "top_recommendations_e = recommendations_indices[0][:3]"
   ]
  },
  {
   "cell_type": "code",
   "execution_count": 27,
   "id": "1dff2562",
   "metadata": {},
   "outputs": [
    {
     "name": "stdout",
     "output_type": "stream",
     "text": [
      "Plant Index: 18659\n",
      "Similarity Score: 1.0\n",
      "Plant Data: [    0     0     0     0     2     1     2 58003 53002]\n",
      "식물명: 박쥐란\n",
      "\n",
      "Plant Index: 19696\n",
      "Similarity Score: 1.0\n",
      "Plant Data: [    0     0     0     0     2     1     2 58003 53002]\n",
      "식물명: 셀라기넬라\n",
      "\n",
      "Plant Index: 12971\n",
      "Similarity Score: 1.0\n",
      "Plant Data: [    0     0     0     0     2     1     2 58003 53002]\n",
      "식물명: 홀리아페페로미아\n",
      "\n"
     ]
    }
   ],
   "source": [
    "for recommendation in top_recommendations_e:\n",
    "    plant_index = df.iloc[recommendation].name\n",
    "    plant_values = df.iloc[recommendation].values\n",
    "    cntntsSj = df_o.loc[df_o['cntntsNo(컨텐츠 번호)'] == plant_index, 'cntntsSj(식물 명)'].values[0]\n",
    "\n",
    "    print(\"Plant Index:\", plant_index)\n",
    "    print(\"Similarity Score:\", similarities_clustered[0][recommendation])\n",
    "    print(\"Plant Data:\", plant_values)\n",
    "    print(\"식물명:\", cntntsSj)\n",
    "    print()"
   ]
  }
 ],
 "metadata": {
  "kernelspec": {
   "display_name": "Python 3 (ipykernel)",
   "language": "python",
   "name": "python3"
  },
  "language_info": {
   "codemirror_mode": {
    "name": "ipython",
    "version": 3
   },
   "file_extension": ".py",
   "mimetype": "text/x-python",
   "name": "python",
   "nbconvert_exporter": "python",
   "pygments_lexer": "ipython3",
   "version": "3.9.0"
  },
  "toc": {
   "base_numbering": 1,
   "nav_menu": {},
   "number_sections": true,
   "sideBar": true,
   "skip_h1_title": false,
   "title_cell": "Table of Contents",
   "title_sidebar": "Contents",
   "toc_cell": false,
   "toc_position": {},
   "toc_section_display": true,
   "toc_window_display": false
  }
 },
 "nbformat": 4,
 "nbformat_minor": 5
}
